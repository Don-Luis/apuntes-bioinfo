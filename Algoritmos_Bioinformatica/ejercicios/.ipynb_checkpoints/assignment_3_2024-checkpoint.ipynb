{
 "cells": [
  {
   "cell_type": "markdown",
   "metadata": {},
   "source": [
    "## Assignment 3: Timing code execution"
   ]
  },
  {
   "cell_type": "code",
   "execution_count": 1,
   "metadata": {
    "tags": []
   },
   "outputs": [],
   "source": [
    "%matplotlib inline\n",
    "\n",
    "import numpy as np\n",
    "import matplotlib.pyplot as plt"
   ]
  },
  {
   "cell_type": "markdown",
   "metadata": {},
   "source": [
    "### Question 1.\n",
    "\n",
    "The `%timeit` magic command can be used to get basic execution timing information.\n",
    "\n",
    "Explore its workings executing the Python commands below."
   ]
  },
  {
   "cell_type": "code",
   "execution_count": 2,
   "metadata": {
    "tags": []
   },
   "outputs": [
    {
     "name": "stdout",
     "output_type": "stream",
     "text": [
      "3.82 µs ± 337 ns per loop (mean ± std. dev. of 10 runs, 1,000 loops each)\n",
      "['all_runs', 'average', 'best', 'compile_time', 'loops', 'repeat', 'stdev', 'timings', 'worst'] \n",
      "\n",
      "all_runs [0.004 0.004 0.004 0.004 0.004 0.004 0.004 0.004 0.004 0.003]\n",
      "repeat 10\n",
      "loops 1000\n",
      "compile_time 0.0\n",
      "average_time 3.819480002857745e-06\n",
      "best_time 3.363499999977648e-06\n",
      "worst_time 4.426300001796335e-06\n"
     ]
    }
   ],
   "source": [
    "timings = %timeit -n 1000 -r 10 -o [k**2 for k in range(10)]\n",
    "\n",
    "print(dir(timings)[-9 : ], '\\n')\n",
    "print(\"all_runs\", np.array(timings.all_runs).round(3))\n",
    "print(\"repeat\", timings.repeat)\n",
    "print(\"loops\", timings.loops)\n",
    "print(\"compile_time\", timings.compile_time)\n",
    "print(\"average_time\", timings.average)\n",
    "print(\"best_time\", timings.best) #tiempo más relevante\n",
    "print(\"worst_time\", timings.worst)"
   ]
  },
  {
   "cell_type": "markdown",
   "metadata": {},
   "source": [
    "### Question 2.\n",
    "\n",
    "Among our most expensive algorithms is the one for matrix multiplication. \n",
    "\n",
    "Use the `%timeit` magic command to measure its execution times for the multiplication of random matrices with sizes between 10 and 20, storing the best execution times in a list with dimension and time pairs that you can then use to further explore them."
   ]
  },
  {
   "cell_type": "code",
   "execution_count": 3,
   "metadata": {
    "tags": []
   },
   "outputs": [
    {
     "name": "stdout",
     "output_type": "stream",
     "text": [
      "\n",
      "dim:  10\n",
      "837 µs ± 315 µs per loop (mean ± std. dev. of 5 runs, 10 loops each)\n",
      "\n",
      "dim:  11\n",
      "703 µs ± 9.23 µs per loop (mean ± std. dev. of 5 runs, 10 loops each)\n",
      "\n",
      "dim:  12\n",
      "1.74 ms ± 227 µs per loop (mean ± std. dev. of 5 runs, 10 loops each)\n",
      "\n",
      "dim:  13\n",
      "2.05 ms ± 463 µs per loop (mean ± std. dev. of 5 runs, 10 loops each)\n",
      "\n",
      "dim:  14\n",
      "2.18 ms ± 425 µs per loop (mean ± std. dev. of 5 runs, 10 loops each)\n",
      "\n",
      "dim:  15\n",
      "2.7 ms ± 898 µs per loop (mean ± std. dev. of 5 runs, 10 loops each)\n",
      "\n",
      "dim:  16\n",
      "2.28 ms ± 118 µs per loop (mean ± std. dev. of 5 runs, 10 loops each)\n",
      "\n",
      "dim:  17\n",
      "3.03 ms ± 108 µs per loop (mean ± std. dev. of 5 runs, 10 loops each)\n",
      "\n",
      "dim:  18\n",
      "3.89 ms ± 424 µs per loop (mean ± std. dev. of 5 runs, 10 loops each)\n",
      "\n",
      "dim:  19\n",
      "4.36 ms ± 790 µs per loop (mean ± std. dev. of 5 runs, 10 loops each)\n",
      "\n",
      "dim:  20\n",
      "4.84 ms ± 410 µs per loop (mean ± std. dev. of 5 runs, 10 loops each)\n",
      "[[1.00000000e+01 5.27329999e-04]\n",
      " [1.10000000e+01 6.90529999e-04]\n",
      " [1.20000000e+01 1.34921000e-03]\n",
      " [1.30000000e+01 1.47715000e-03]\n",
      " [1.40000000e+01 1.81395000e-03]\n",
      " [1.50000000e+01 2.01813000e-03]\n",
      " [1.60000000e+01 2.16627000e-03]\n",
      " [1.70000000e+01 2.87853000e-03]\n",
      " [1.80000000e+01 3.48865000e-03]\n",
      " [1.90000000e+01 3.47140000e-03]\n",
      " [2.00000000e+01 4.13078000e-03]]\n"
     ]
    }
   ],
   "source": [
    "def matrix_multiplication(m_1: np.ndarray, m_2: np.ndarray) -> np.ndarray: #type hints\n",
    "    \"\"\"\n",
    "    Perform matrix multiplication between two 2D numpy arrays.\n",
    "        Args:\n",
    "            m_1 (np.ndarray): The first matrix with shape (n_rows, n_interm).\n",
    "            m_2 (np.ndarray): The second matrix with shape (n_interm, n_columns).\n",
    "        Returns:\n",
    "            np.ndarray: The resulting matrix product with shape (n_rows, n_columns).\n",
    "        Raises:\n",
    "            ValueError: If the number of columns in the first matrix does not match the number of rows in the second matrix.\n",
    "    \"\"\"\n",
    "    n_rows, n_interm, n_columns = \\\n",
    "        m_1.shape[0], m_2.shape[0], m_2.shape[1]\n",
    "    \n",
    "    m_product = np.zeros( (n_rows, n_columns) )\n",
    "    \n",
    "    for p in range(n_rows):\n",
    "        for q in range(n_columns):\n",
    "            for r in range(n_interm):\n",
    "                m_product[p, q] += m_1[p, r] * m_2[r, q]\n",
    "                \n",
    "    return m_product\n",
    "\n",
    "l_timings = []\n",
    "for i in range(11):\n",
    "    dim = 10 + i\n",
    "    m = np.random.uniform(0., 100, (dim, dim))\n",
    "    print(\"\\ndim: \", dim)\n",
    "    timings = %timeit -o -n 10 -r 5 matrix_multiplication(m, m)\n",
    "    l_timings.append([dim, timings.best])\n",
    "    \n",
    "a_timings = np.array(l_timings)\n",
    "print(a_timings)"
   ]
  },
  {
   "cell_type": "markdown",
   "metadata": {
    "tags": []
   },
   "source": [
    "### Question 3.\n",
    "\n",
    "Plot the best times you have got from the previous execution, striving to make your picture as informative as possible.\n",
    "\n",
    "Which kind of time function you should get? Do you actually get it?"
   ]
  },
  {
   "cell_type": "code",
   "execution_count": 4,
   "metadata": {
    "tags": []
   },
   "outputs": [
    {
     "data": {
      "text/plain": [
       "[<matplotlib.lines.Line2D at 0x1f45a1e68f0>]"
      ]
     },
     "execution_count": 4,
     "metadata": {},
     "output_type": "execute_result"
    },
    {
     "data": {
      "image/png": "[encoded data removed]",
      "text/plain": [
       "<Figure size 640x480 with 1 Axes>"
      ]
     },
     "metadata": {},
     "output_type": "display_data"
    }
   ],
   "source": [
    "#transform l_timings in a numpy array and normalize the times in an adequate way\n",
    "plt.plot(a_timings[:, 0], a_timings[:, 1], '.')"
   ]
  },
  {
   "cell_type": "markdown",
   "metadata": {},
   "source": [
    "### Question 4.\n",
    "\n",
    "We are aware that our matrix multiplication function is not going to be very efficient.\n",
    "\n",
    "In order to ascertain this, repeat the previous experiments but using now Numpy's `dot` method. Try to limit `timeit`'s verbosity."
   ]
  },
  {
   "cell_type": "code",
   "execution_count": 5,
   "metadata": {},
   "outputs": [
    {
     "name": "stdout",
     "output_type": "stream",
     "text": [
      "\n",
      "dim:  10\n",
      "The slowest run took 16.33 times longer than the fastest. This could mean that an intermediate result is being cached.\n",
      "4.4 µs ± 6.73 µs per loop (mean ± std. dev. of 10 runs, 50 loops each)\n",
      "\n",
      "dim:  15\n",
      "1.11 µs ± 397 ns per loop (mean ± std. dev. of 10 runs, 50 loops each)\n",
      "\n",
      "dim:  20\n",
      "The slowest run took 33.96 times longer than the fastest. This could mean that an intermediate result is being cached.\n",
      "4.76 µs ± 10.2 µs per loop (mean ± std. dev. of 10 runs, 50 loops each)\n",
      "\n",
      "dim:  25\n",
      "The slowest run took 5.70 times longer than the fastest. This could mean that an intermediate result is being cached.\n",
      "2.28 µs ± 2.18 µs per loop (mean ± std. dev. of 10 runs, 50 loops each)\n",
      "\n",
      "dim:  30\n",
      "3.03 µs ± 263 ns per loop (mean ± std. dev. of 10 runs, 50 loops each)\n",
      "\n",
      "dim:  35\n",
      "3.58 µs ± 709 ns per loop (mean ± std. dev. of 10 runs, 50 loops each)\n",
      "\n",
      "dim:  40\n",
      "The slowest run took 4.19 times longer than the fastest. This could mean that an intermediate result is being cached.\n",
      "4.87 µs ± 2.44 µs per loop (mean ± std. dev. of 10 runs, 50 loops each)\n",
      "\n",
      "dim:  45\n",
      "The slowest run took 6.75 times longer than the fastest. This could mean that an intermediate result is being cached.\n",
      "10.7 µs ± 11.1 µs per loop (mean ± std. dev. of 10 runs, 50 loops each)\n",
      "\n",
      "dim:  50\n",
      "7.69 µs ± 301 ns per loop (mean ± std. dev. of 10 runs, 50 loops each)\n",
      "\n",
      "dim:  55\n",
      "8.47 µs ± 288 ns per loop (mean ± std. dev. of 10 runs, 50 loops each)\n",
      "\n",
      "dim:  60\n",
      "10.9 µs ± 308 ns per loop (mean ± std. dev. of 10 runs, 50 loops each)\n",
      "\n",
      "dim:  65\n",
      "16.5 µs ± 1.37 µs per loop (mean ± std. dev. of 10 runs, 50 loops each)\n",
      "\n",
      "dim:  70\n",
      "14 µs ± 758 ns per loop (mean ± std. dev. of 10 runs, 50 loops each)\n",
      "\n",
      "dim:  75\n",
      "15.9 µs ± 308 ns per loop (mean ± std. dev. of 10 runs, 50 loops each)\n",
      "\n",
      "dim:  80\n",
      "17.5 µs ± 503 ns per loop (mean ± std. dev. of 10 runs, 50 loops each)\n",
      "\n",
      "dim:  85\n",
      "19.3 µs ± 3.55 µs per loop (mean ± std. dev. of 10 runs, 50 loops each)\n",
      "\n",
      "dim:  90\n",
      "25.2 µs ± 5.83 µs per loop (mean ± std. dev. of 10 runs, 50 loops each)\n",
      "\n",
      "dim:  95\n",
      "33 µs ± 9.58 µs per loop (mean ± std. dev. of 10 runs, 50 loops each)\n",
      "\n",
      "dim:  100\n",
      "31.8 µs ± 1.48 µs per loop (mean ± std. dev. of 10 runs, 50 loops each)\n",
      "\n",
      "dim:  105\n",
      "33.5 µs ± 377 ns per loop (mean ± std. dev. of 10 runs, 50 loops each)\n",
      "\n",
      "dim:  110\n",
      "36.7 µs ± 362 ns per loop (mean ± std. dev. of 10 runs, 50 loops each)\n",
      "\n",
      "dim:  115\n",
      "The slowest run took 7.33 times longer than the fastest. This could mean that an intermediate result is being cached.\n",
      "77.7 µs ± 82.1 µs per loop (mean ± std. dev. of 10 runs, 50 loops each)\n",
      "\n",
      "dim:  120\n",
      "54.7 µs ± 6.51 µs per loop (mean ± std. dev. of 10 runs, 50 loops each)\n",
      "\n",
      "dim:  125\n",
      "61.7 µs ± 7.94 µs per loop (mean ± std. dev. of 10 runs, 50 loops each)\n",
      "\n",
      "dim:  130\n",
      "60 µs ± 1.02 µs per loop (mean ± std. dev. of 10 runs, 50 loops each)\n",
      "\n",
      "dim:  135\n",
      "82 µs ± 17.7 µs per loop (mean ± std. dev. of 10 runs, 50 loops each)\n",
      "\n",
      "dim:  140\n",
      "76.3 µs ± 11.4 µs per loop (mean ± std. dev. of 10 runs, 50 loops each)\n",
      "\n",
      "dim:  145\n",
      "82.8 µs ± 8.89 µs per loop (mean ± std. dev. of 10 runs, 50 loops each)\n",
      "\n",
      "dim:  150\n",
      "107 µs ± 44.5 µs per loop (mean ± std. dev. of 10 runs, 50 loops each)\n",
      "\n",
      "dim:  155\n",
      "98.2 µs ± 3.66 µs per loop (mean ± std. dev. of 10 runs, 50 loops each)\n",
      "\n",
      "dim:  160\n",
      "95.5 µs ± 26.4 µs per loop (mean ± std. dev. of 10 runs, 50 loops each)\n",
      "\n",
      "dim:  165\n",
      "122 µs ± 9.48 µs per loop (mean ± std. dev. of 10 runs, 50 loops each)\n",
      "\n",
      "dim:  170\n",
      "122 µs ± 6.05 µs per loop (mean ± std. dev. of 10 runs, 50 loops each)\n",
      "\n",
      "dim:  175\n",
      "140 µs ± 4.97 µs per loop (mean ± std. dev. of 10 runs, 50 loops each)\n",
      "\n",
      "dim:  180\n",
      "137 µs ± 4.42 µs per loop (mean ± std. dev. of 10 runs, 50 loops each)\n",
      "\n",
      "dim:  185\n",
      "142 µs ± 15.3 µs per loop (mean ± std. dev. of 10 runs, 50 loops each)\n",
      "\n",
      "dim:  190\n",
      "164 µs ± 9.05 µs per loop (mean ± std. dev. of 10 runs, 50 loops each)\n",
      "\n",
      "dim:  195\n",
      "169 µs ± 30 µs per loop (mean ± std. dev. of 10 runs, 50 loops each)\n",
      "\n",
      "dim:  200\n",
      "218 µs ± 45 µs per loop (mean ± std. dev. of 10 runs, 50 loops each)\n",
      "\n",
      "dim:  205\n",
      "225 µs ± 33 µs per loop (mean ± std. dev. of 10 runs, 50 loops each)\n",
      "\n",
      "dim:  210\n",
      "209 µs ± 17.4 µs per loop (mean ± std. dev. of 10 runs, 50 loops each)\n",
      "\n",
      "dim:  215\n",
      "215 µs ± 25.4 µs per loop (mean ± std. dev. of 10 runs, 50 loops each)\n",
      "\n",
      "dim:  220\n",
      "239 µs ± 20 µs per loop (mean ± std. dev. of 10 runs, 50 loops each)\n",
      "\n",
      "dim:  225\n",
      "283 µs ± 34.1 µs per loop (mean ± std. dev. of 10 runs, 50 loops each)\n",
      "\n",
      "dim:  230\n",
      "262 µs ± 48.4 µs per loop (mean ± std. dev. of 10 runs, 50 loops each)\n",
      "\n",
      "dim:  235\n",
      "408 µs ± 129 µs per loop (mean ± std. dev. of 10 runs, 50 loops each)\n",
      "\n",
      "dim:  240\n",
      "286 µs ± 26.5 µs per loop (mean ± std. dev. of 10 runs, 50 loops each)\n",
      "\n",
      "dim:  245\n",
      "351 µs ± 21.3 µs per loop (mean ± std. dev. of 10 runs, 50 loops each)\n",
      "\n",
      "dim:  250\n",
      "325 µs ± 71.6 µs per loop (mean ± std. dev. of 10 runs, 50 loops each)\n",
      "\n",
      "dim:  255\n",
      "375 µs ± 25.9 µs per loop (mean ± std. dev. of 10 runs, 50 loops each)\n",
      "\n",
      "dim:  260\n",
      "395 µs ± 25.6 µs per loop (mean ± std. dev. of 10 runs, 50 loops each)\n"
     ]
    },
    {
     "data": {
      "text/plain": [
       "[<matplotlib.lines.Line2D at 0x1f45a2662f0>]"
      ]
     },
     "execution_count": 5,
     "metadata": {},
     "output_type": "execute_result"
    },
    {
     "data": {
      "image/png": "[encoded data removed]",
      "text/plain": [
       "<Figure size 640x480 with 1 Axes>"
      ]
     },
     "metadata": {},
     "output_type": "display_data"
    }
   ],
   "source": [
    "l_timings_np = []\n",
    "for i in range(51):\n",
    "    #reproduce your previous code but timing now the numpy multiplication times\n",
    "    dim = 10 + 5 * i\n",
    "    #put your code here\n",
    "    m = np.random.uniform(0., 100, (dim, dim))\n",
    "    print(\"\\ndim: \", dim)\n",
    "    timings = %timeit -o -n 50 -r 10 m.dot(m)\n",
    "    l_timings_np.append([dim, timings.best])\n",
    "    \n",
    "#put your plot here\n",
    "a_timings_np  = np.array(l_timings_np )\n",
    "\n",
    "plt.plot(a_timings_np [:, 0], a_timings_np [:, 1], '.')"
   ]
  },
  {
   "cell_type": "markdown",
   "metadata": {},
   "source": [
    "### Question 5.\n",
    "\n",
    "Our execution times should have a companion mathematical function that gives us their theoretical growth.\n",
    "\n",
    "Use the code below to fit a suitable such function to your time listings."
   ]
  },
  {
   "cell_type": "code",
   "execution_count": 7,
   "metadata": {
    "tags": []
   },
   "outputs": [
    {
     "name": "stdout",
     "output_type": "stream",
     "text": [
      "coef a 1.77577091645954e-11 coef b 1.0006852816353676e-05\n"
     ]
    },
    {
     "data": {
      "text/plain": [
       "[<matplotlib.lines.Line2D at 0x1f46f7e34c0>,\n",
       " <matplotlib.lines.Line2D at 0x1f46f7e3550>]"
      ]
     },
     "execution_count": 7,
     "metadata": {},
     "output_type": "execute_result"
    },
    {
     "data": {
      "image/png": "[encoded data removed]",
      "text/plain": [
       "<Figure size 640x480 with 1 Axes>"
      ]
     },
     "metadata": {},
     "output_type": "display_data"
    }
   ],
   "source": [
    "#check https://docs.scipy.org/doc/scipy/reference/generated/scipy.optimize.curve_fit.html for more information\n",
    "from scipy.optimize import curve_fit\n",
    "\n",
    "def my_f(x, a, b):\n",
    "    #change this appropriately\n",
    "    return a * x**3. + b\n",
    "\n",
    "x = a_timings_np[ : , 0]\n",
    "y = a_timings_np[ : , 1]\n",
    "\n",
    "(a, b), _ = curve_fit(my_f, x, y)\n",
    "print('coef a', a, 'coef b',b)\n",
    "plt.plot(x, y, 'b.', x, my_f(x, a, b), 'r-')"
   ]
  }
 ],
 "metadata": {
  "kernelspec": {
   "display_name": "Python 3 (ipykernel)",
   "language": "python",
   "name": "python3"
  },
  "language_info": {
   "codemirror_mode": {
    "name": "ipython",
    "version": 3
   },
   "file_extension": ".py",
   "mimetype": "text/x-python",
   "name": "python",
   "nbconvert_exporter": "python",
   "pygments_lexer": "ipython3",
   "version": "3.10.9"
  }
 },
 "nbformat": 4,
 "nbformat_minor": 4
}
