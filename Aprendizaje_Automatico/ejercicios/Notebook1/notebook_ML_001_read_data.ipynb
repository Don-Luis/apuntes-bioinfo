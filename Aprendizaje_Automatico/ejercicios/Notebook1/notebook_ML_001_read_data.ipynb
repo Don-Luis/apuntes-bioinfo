{
 "cells": [
  {
   "cell_type": "markdown",
   "metadata": {},
   "source": [
    "# Notebook: Data Load and Analysis\n",
    "\n",
    "In this notebook, we illustrate how to use pandas and Jupyter notebook to **analyze a dataset**. It will cover how to do basic analysis of a dataset using **pandas functions**, **sklearn** and how to transform a dataset by **mapping functions**.\n",
    "\n",
    "## Contents\n",
    "The structure of the notebook is as follows:\n",
    "* Import a Dataset Into Jupyter\n",
    "* Basic Analysis of Dataset\n",
    "* Mapping Functions to Transform Data\n",
    "* Histograms\n",
    "* Kernel Density Estimation in Practice\n",
    "\n",
    "\n",
    "## Sources\n",
    "\n",
    "<!--BOOK_INFORMATION-->\n",
    "*This notebook has been modified by Aythami Morales from:\n",
    "\n",
    "[Data Analysis with Python and pandas using Jupyter Notebook](https://dev.socrata.com/blog/2016/02/01/pandas-and-jupyter-notebook.html) by Amy Ghate; [scikitlearn Density Estimation ](http://scikit-learn.org/stable/modules/density.html) by scikit-learn developers (BSD License)\n",
    "\n",
    "\n",
    "## Installing Python and Jupyter\n",
    "\n",
    "You can run Jupyter notebook in the cloud using a service like https://try.jupyter.org/ or install and run it locally. To install it locally follow the instructions here: http://jupyter.readthedocs.org/en/latest/install.html. You will need to have or install Python 3.3 or greater or Python 2.7.\n"
   ]
  },
  {
   "cell_type": "markdown",
   "metadata": {},
   "source": [
    "### Import a Dataset Into Jupyter"
   ]
  },
  {
   "cell_type": "markdown",
   "metadata": {},
   "source": [
    "Before we import our sample dataset into the notebook we will import the pandas library. pandas is an open source Python library that provides \"high-performance, easy-to-use data structures and data analysis tools.\" - http://pandas.pydata.org/"
   ]
  },
  {
   "cell_type": "code",
   "execution_count": 1,
   "metadata": {},
   "outputs": [
    {
     "name": "stdout",
     "output_type": "stream",
     "text": [
      "1.5.3\n"
     ]
    }
   ],
   "source": [
    "import pandas as pd\n",
    "print(pd.__version__)"
   ]
  },
  {
   "cell_type": "markdown",
   "metadata": {},
   "source": [
    "Pandas es una librería muy útil para análisis de datos. En este caso, veremos una base de datos de diabetes. Dentro de pandas hay una función para leer los csv. df viene de data frame"
   ]
  },
  {
   "cell_type": "markdown",
   "metadata": {},
   "source": [
    "Next, we will read the following dataset from Efron et al, 2004 [http://www4.stat.ncsu.edu/~boos/var.select/diabetes.html].\n",
    "\n",
    "Pandas provides several methods for reading data in differet formats. Here we'll read it in as csv but you can read in json and Excel files as well. \n",
    "\n"
   ]
  },
  {
   "cell_type": "markdown",
   "metadata": {},
   "source": [
    "The data is returned as a \"DataFrame\" which is a 2 dimensional spreadsheet-like datastructure with columns of different types. pandas has two main data structures - the DataFrame and Series. A Series is a one-dimensional array that can hold any value type - This is not necessarily the case but a DataFrame column may be treated as a Series.\n",
    "\n",
    "Displayed below are the first 5 rows of the DataFrame we imported (to see the last n rows use .tail(n))."
   ]
  },
  {
   "cell_type": "code",
   "execution_count": 40,
   "metadata": {},
   "outputs": [],
   "source": [
    "#read the csv file\n",
    "df = pd.read_csv(filepath_or_buffer='diabetes.csv', sep=';')"
   ]
  },
  {
   "cell_type": "code",
   "execution_count": 41,
   "metadata": {},
   "outputs": [
    {
     "data": {
      "text/html": [
       "<div>\n",
       "<style scoped>\n",
       "    .dataframe tbody tr th:only-of-type {\n",
       "        vertical-align: middle;\n",
       "    }\n",
       "\n",
       "    .dataframe tbody tr th {\n",
       "        vertical-align: top;\n",
       "    }\n",
       "\n",
       "    .dataframe thead th {\n",
       "        text-align: right;\n",
       "    }\n",
       "</style>\n",
       "<table border=\"1\" class=\"dataframe\">\n",
       "  <thead>\n",
       "    <tr style=\"text-align: right;\">\n",
       "      <th></th>\n",
       "      <th>AGE</th>\n",
       "      <th>SEX</th>\n",
       "      <th>BMI</th>\n",
       "      <th>BP</th>\n",
       "      <th>S1</th>\n",
       "      <th>S2</th>\n",
       "      <th>S3</th>\n",
       "      <th>S4</th>\n",
       "      <th>S5</th>\n",
       "      <th>S6</th>\n",
       "      <th>Y</th>\n",
       "    </tr>\n",
       "  </thead>\n",
       "  <tbody>\n",
       "    <tr>\n",
       "      <th>0</th>\n",
       "      <td>48</td>\n",
       "      <td>1</td>\n",
       "      <td>21.6</td>\n",
       "      <td>87.0</td>\n",
       "      <td>183</td>\n",
       "      <td>103.2</td>\n",
       "      <td>70.0</td>\n",
       "      <td>3.0</td>\n",
       "      <td>38.918</td>\n",
       "      <td>69</td>\n",
       "      <td>75</td>\n",
       "    </tr>\n",
       "    <tr>\n",
       "      <th>1</th>\n",
       "      <td>72</td>\n",
       "      <td>2</td>\n",
       "      <td>30.5</td>\n",
       "      <td>93.0</td>\n",
       "      <td>156</td>\n",
       "      <td>93.6</td>\n",
       "      <td>41.0</td>\n",
       "      <td>4.0</td>\n",
       "      <td>46.728</td>\n",
       "      <td>85</td>\n",
       "      <td>141</td>\n",
       "    </tr>\n",
       "    <tr>\n",
       "      <th>2</th>\n",
       "      <td>24</td>\n",
       "      <td>1</td>\n",
       "      <td>25.3</td>\n",
       "      <td>84.0</td>\n",
       "      <td>198</td>\n",
       "      <td>131.4</td>\n",
       "      <td>40.0</td>\n",
       "      <td>5.0</td>\n",
       "      <td>48.903</td>\n",
       "      <td>89</td>\n",
       "      <td>206</td>\n",
       "    </tr>\n",
       "    <tr>\n",
       "      <th>3</th>\n",
       "      <td>50</td>\n",
       "      <td>1</td>\n",
       "      <td>23.0</td>\n",
       "      <td>101.0</td>\n",
       "      <td>192</td>\n",
       "      <td>125.4</td>\n",
       "      <td>52.0</td>\n",
       "      <td>4.0</td>\n",
       "      <td>42.905</td>\n",
       "      <td>80</td>\n",
       "      <td>135</td>\n",
       "    </tr>\n",
       "    <tr>\n",
       "      <th>4</th>\n",
       "      <td>23</td>\n",
       "      <td>1</td>\n",
       "      <td>22.6</td>\n",
       "      <td>89.0</td>\n",
       "      <td>139</td>\n",
       "      <td>64.8</td>\n",
       "      <td>61.0</td>\n",
       "      <td>2.0</td>\n",
       "      <td>41.897</td>\n",
       "      <td>68</td>\n",
       "      <td>97</td>\n",
       "    </tr>\n",
       "  </tbody>\n",
       "</table>\n",
       "</div>"
      ],
      "text/plain": [
       "   AGE  SEX   BMI     BP   S1     S2    S3   S4      S5  S6    Y\n",
       "0   48    1  21.6   87.0  183  103.2  70.0  3.0  38.918  69   75\n",
       "1   72    2  30.5   93.0  156   93.6  41.0  4.0  46.728  85  141\n",
       "2   24    1  25.3   84.0  198  131.4  40.0  5.0  48.903  89  206\n",
       "3   50    1  23.0  101.0  192  125.4  52.0  4.0  42.905  80  135\n",
       "4   23    1  22.6   89.0  139   64.8  61.0  2.0  41.897  68   97"
      ]
     },
     "execution_count": 41,
     "metadata": {},
     "output_type": "execute_result"
    }
   ],
   "source": [
    "#display the first 5 rows\n",
    "df.head(5)"
   ]
  },
  {
   "cell_type": "markdown",
   "metadata": {},
   "source": [
    "Tenemos 5 pacientes con distintas variables: edad, sexo, índice de masa corporal, presión sanguínea, variables del serum de la sangre y una variable Y que queremos modelar en el futuro. Cada columna tiene una información distinta: binario, entero, decimales."
   ]
  },
  {
   "cell_type": "markdown",
   "metadata": {},
   "source": [
    "### Basic Analysis of Dataset"
   ]
  },
  {
   "cell_type": "markdown",
   "metadata": {},
   "source": [
    "pandas has several methods that allow you to quickly analyze a dataset and get an idea of the type and amount of data you are dealing with along with some important statistics. "
   ]
  },
  {
   "cell_type": "code",
   "execution_count": 42,
   "metadata": {},
   "outputs": [
    {
     "data": {
      "text/plain": [
       "(441, 11)"
      ]
     },
     "execution_count": 42,
     "metadata": {},
     "output_type": "execute_result"
    }
   ],
   "source": [
    "# returns the row and column count of a dataset\n",
    "df.shape"
   ]
  },
  {
   "cell_type": "code",
   "execution_count": 43,
   "metadata": {},
   "outputs": [
    {
     "data": {
      "text/html": [
       "<div>\n",
       "<style scoped>\n",
       "    .dataframe tbody tr th:only-of-type {\n",
       "        vertical-align: middle;\n",
       "    }\n",
       "\n",
       "    .dataframe tbody tr th {\n",
       "        vertical-align: top;\n",
       "    }\n",
       "\n",
       "    .dataframe thead th {\n",
       "        text-align: right;\n",
       "    }\n",
       "</style>\n",
       "<table border=\"1\" class=\"dataframe\">\n",
       "  <thead>\n",
       "    <tr style=\"text-align: right;\">\n",
       "      <th></th>\n",
       "      <th>AGE</th>\n",
       "      <th>SEX</th>\n",
       "      <th>BMI</th>\n",
       "      <th>BP</th>\n",
       "      <th>S1</th>\n",
       "      <th>S2</th>\n",
       "      <th>S3</th>\n",
       "      <th>S4</th>\n",
       "      <th>S5</th>\n",
       "      <th>S6</th>\n",
       "      <th>Y</th>\n",
       "    </tr>\n",
       "  </thead>\n",
       "  <tbody>\n",
       "    <tr>\n",
       "      <th>count</th>\n",
       "      <td>441.000000</td>\n",
       "      <td>441.000000</td>\n",
       "      <td>441.000000</td>\n",
       "      <td>441.000000</td>\n",
       "      <td>441.000000</td>\n",
       "      <td>441.000000</td>\n",
       "      <td>441.000000</td>\n",
       "      <td>441.000000</td>\n",
       "      <td>441.000000</td>\n",
       "      <td>441.000000</td>\n",
       "      <td>441.000000</td>\n",
       "    </tr>\n",
       "    <tr>\n",
       "      <th>mean</th>\n",
       "      <td>48.494331</td>\n",
       "      <td>1.467120</td>\n",
       "      <td>26.362812</td>\n",
       "      <td>94.632608</td>\n",
       "      <td>189.213152</td>\n",
       "      <td>115.489569</td>\n",
       "      <td>49.815193</td>\n",
       "      <td>4.070408</td>\n",
       "      <td>41.320320</td>\n",
       "      <td>91.269841</td>\n",
       "      <td>152.136054</td>\n",
       "    </tr>\n",
       "    <tr>\n",
       "      <th>std</th>\n",
       "      <td>13.114378</td>\n",
       "      <td>0.499484</td>\n",
       "      <td>4.414694</td>\n",
       "      <td>13.843672</td>\n",
       "      <td>34.613383</td>\n",
       "      <td>30.429116</td>\n",
       "      <td>12.936663</td>\n",
       "      <td>1.291911</td>\n",
       "      <td>14.247448</td>\n",
       "      <td>11.507595</td>\n",
       "      <td>77.180542</td>\n",
       "    </tr>\n",
       "    <tr>\n",
       "      <th>min</th>\n",
       "      <td>19.000000</td>\n",
       "      <td>1.000000</td>\n",
       "      <td>18.000000</td>\n",
       "      <td>62.000000</td>\n",
       "      <td>97.000000</td>\n",
       "      <td>41.600000</td>\n",
       "      <td>22.000000</td>\n",
       "      <td>2.000000</td>\n",
       "      <td>3.912000</td>\n",
       "      <td>58.000000</td>\n",
       "      <td>25.000000</td>\n",
       "    </tr>\n",
       "    <tr>\n",
       "      <th>25%</th>\n",
       "      <td>38.000000</td>\n",
       "      <td>1.000000</td>\n",
       "      <td>23.200000</td>\n",
       "      <td>84.000000</td>\n",
       "      <td>165.000000</td>\n",
       "      <td>96.200000</td>\n",
       "      <td>41.000000</td>\n",
       "      <td>3.000000</td>\n",
       "      <td>40.775000</td>\n",
       "      <td>83.000000</td>\n",
       "      <td>87.000000</td>\n",
       "    </tr>\n",
       "    <tr>\n",
       "      <th>50%</th>\n",
       "      <td>50.000000</td>\n",
       "      <td>1.000000</td>\n",
       "      <td>25.700000</td>\n",
       "      <td>93.000000</td>\n",
       "      <td>186.000000</td>\n",
       "      <td>113.000000</td>\n",
       "      <td>48.000000</td>\n",
       "      <td>4.000000</td>\n",
       "      <td>44.659000</td>\n",
       "      <td>91.000000</td>\n",
       "      <td>140.000000</td>\n",
       "    </tr>\n",
       "    <tr>\n",
       "      <th>75%</th>\n",
       "      <td>59.000000</td>\n",
       "      <td>2.000000</td>\n",
       "      <td>29.200000</td>\n",
       "      <td>105.000000</td>\n",
       "      <td>210.000000</td>\n",
       "      <td>134.600000</td>\n",
       "      <td>58.000000</td>\n",
       "      <td>5.000000</td>\n",
       "      <td>49.345000</td>\n",
       "      <td>98.000000</td>\n",
       "      <td>212.000000</td>\n",
       "    </tr>\n",
       "    <tr>\n",
       "      <th>max</th>\n",
       "      <td>79.000000</td>\n",
       "      <td>2.000000</td>\n",
       "      <td>42.200000</td>\n",
       "      <td>133.000000</td>\n",
       "      <td>301.000000</td>\n",
       "      <td>242.400000</td>\n",
       "      <td>99.000000</td>\n",
       "      <td>9.090000</td>\n",
       "      <td>61.048000</td>\n",
       "      <td>124.000000</td>\n",
       "      <td>346.000000</td>\n",
       "    </tr>\n",
       "  </tbody>\n",
       "</table>\n",
       "</div>"
      ],
      "text/plain": [
       "              AGE         SEX         BMI          BP          S1          S2  \\\n",
       "count  441.000000  441.000000  441.000000  441.000000  441.000000  441.000000   \n",
       "mean    48.494331    1.467120   26.362812   94.632608  189.213152  115.489569   \n",
       "std     13.114378    0.499484    4.414694   13.843672   34.613383   30.429116   \n",
       "min     19.000000    1.000000   18.000000   62.000000   97.000000   41.600000   \n",
       "25%     38.000000    1.000000   23.200000   84.000000  165.000000   96.200000   \n",
       "50%     50.000000    1.000000   25.700000   93.000000  186.000000  113.000000   \n",
       "75%     59.000000    2.000000   29.200000  105.000000  210.000000  134.600000   \n",
       "max     79.000000    2.000000   42.200000  133.000000  301.000000  242.400000   \n",
       "\n",
       "               S3          S4          S5          S6           Y  \n",
       "count  441.000000  441.000000  441.000000  441.000000  441.000000  \n",
       "mean    49.815193    4.070408   41.320320   91.269841  152.136054  \n",
       "std     12.936663    1.291911   14.247448   11.507595   77.180542  \n",
       "min     22.000000    2.000000    3.912000   58.000000   25.000000  \n",
       "25%     41.000000    3.000000   40.775000   83.000000   87.000000  \n",
       "50%     48.000000    4.000000   44.659000   91.000000  140.000000  \n",
       "75%     58.000000    5.000000   49.345000   98.000000  212.000000  \n",
       "max     99.000000    9.090000   61.048000  124.000000  346.000000  "
      ]
     },
     "execution_count": 43,
     "metadata": {},
     "output_type": "execute_result"
    }
   ],
   "source": [
    "# returns statistics about the numerical columns in a dataset \n",
    "df.describe()"
   ]
  },
  {
   "cell_type": "markdown",
   "metadata": {},
   "source": [
    "Calcula valores estadísticos importantes. El conteo indica el número de valores que tiene esa columna. Aunque debería ser igual en todas las columnas, en bases de datos reales puede haber valores perdidos (Missing Values, NA) que hay que computar y tener en cuenta. Además, nos aporta la media, desviación estándar, valor mínimo y máximo y distintos percentiles."
   ]
  },
  {
   "cell_type": "markdown",
   "metadata": {},
   "source": [
    "You can drop feature columns to remove unwanted values\n",
    "\n",
    "Esto puede ser importante cuando hay variables que están correlacionadas (y sería información redundante) o cuando se quiere quitar información por privacidad del paciente."
   ]
  },
  {
   "cell_type": "code",
   "execution_count": 44,
   "metadata": {},
   "outputs": [
    {
     "data": {
      "text/html": [
       "<div>\n",
       "<style scoped>\n",
       "    .dataframe tbody tr th:only-of-type {\n",
       "        vertical-align: middle;\n",
       "    }\n",
       "\n",
       "    .dataframe tbody tr th {\n",
       "        vertical-align: top;\n",
       "    }\n",
       "\n",
       "    .dataframe thead th {\n",
       "        text-align: right;\n",
       "    }\n",
       "</style>\n",
       "<table border=\"1\" class=\"dataframe\">\n",
       "  <thead>\n",
       "    <tr style=\"text-align: right;\">\n",
       "      <th></th>\n",
       "      <th>AGE</th>\n",
       "      <th>SEX</th>\n",
       "      <th>BMI</th>\n",
       "      <th>S1</th>\n",
       "      <th>S2</th>\n",
       "      <th>S3</th>\n",
       "      <th>S4</th>\n",
       "      <th>S5</th>\n",
       "      <th>S6</th>\n",
       "      <th>Y</th>\n",
       "    </tr>\n",
       "  </thead>\n",
       "  <tbody>\n",
       "    <tr>\n",
       "      <th>count</th>\n",
       "      <td>441.000000</td>\n",
       "      <td>441.000000</td>\n",
       "      <td>441.000000</td>\n",
       "      <td>441.000000</td>\n",
       "      <td>441.000000</td>\n",
       "      <td>441.000000</td>\n",
       "      <td>441.000000</td>\n",
       "      <td>441.000000</td>\n",
       "      <td>441.000000</td>\n",
       "      <td>441.000000</td>\n",
       "    </tr>\n",
       "    <tr>\n",
       "      <th>mean</th>\n",
       "      <td>48.494331</td>\n",
       "      <td>1.467120</td>\n",
       "      <td>26.362812</td>\n",
       "      <td>189.213152</td>\n",
       "      <td>115.489569</td>\n",
       "      <td>49.815193</td>\n",
       "      <td>4.070408</td>\n",
       "      <td>41.320320</td>\n",
       "      <td>91.269841</td>\n",
       "      <td>152.136054</td>\n",
       "    </tr>\n",
       "    <tr>\n",
       "      <th>std</th>\n",
       "      <td>13.114378</td>\n",
       "      <td>0.499484</td>\n",
       "      <td>4.414694</td>\n",
       "      <td>34.613383</td>\n",
       "      <td>30.429116</td>\n",
       "      <td>12.936663</td>\n",
       "      <td>1.291911</td>\n",
       "      <td>14.247448</td>\n",
       "      <td>11.507595</td>\n",
       "      <td>77.180542</td>\n",
       "    </tr>\n",
       "    <tr>\n",
       "      <th>min</th>\n",
       "      <td>19.000000</td>\n",
       "      <td>1.000000</td>\n",
       "      <td>18.000000</td>\n",
       "      <td>97.000000</td>\n",
       "      <td>41.600000</td>\n",
       "      <td>22.000000</td>\n",
       "      <td>2.000000</td>\n",
       "      <td>3.912000</td>\n",
       "      <td>58.000000</td>\n",
       "      <td>25.000000</td>\n",
       "    </tr>\n",
       "    <tr>\n",
       "      <th>25%</th>\n",
       "      <td>38.000000</td>\n",
       "      <td>1.000000</td>\n",
       "      <td>23.200000</td>\n",
       "      <td>165.000000</td>\n",
       "      <td>96.200000</td>\n",
       "      <td>41.000000</td>\n",
       "      <td>3.000000</td>\n",
       "      <td>40.775000</td>\n",
       "      <td>83.000000</td>\n",
       "      <td>87.000000</td>\n",
       "    </tr>\n",
       "    <tr>\n",
       "      <th>50%</th>\n",
       "      <td>50.000000</td>\n",
       "      <td>1.000000</td>\n",
       "      <td>25.700000</td>\n",
       "      <td>186.000000</td>\n",
       "      <td>113.000000</td>\n",
       "      <td>48.000000</td>\n",
       "      <td>4.000000</td>\n",
       "      <td>44.659000</td>\n",
       "      <td>91.000000</td>\n",
       "      <td>140.000000</td>\n",
       "    </tr>\n",
       "    <tr>\n",
       "      <th>75%</th>\n",
       "      <td>59.000000</td>\n",
       "      <td>2.000000</td>\n",
       "      <td>29.200000</td>\n",
       "      <td>210.000000</td>\n",
       "      <td>134.600000</td>\n",
       "      <td>58.000000</td>\n",
       "      <td>5.000000</td>\n",
       "      <td>49.345000</td>\n",
       "      <td>98.000000</td>\n",
       "      <td>212.000000</td>\n",
       "    </tr>\n",
       "    <tr>\n",
       "      <th>max</th>\n",
       "      <td>79.000000</td>\n",
       "      <td>2.000000</td>\n",
       "      <td>42.200000</td>\n",
       "      <td>301.000000</td>\n",
       "      <td>242.400000</td>\n",
       "      <td>99.000000</td>\n",
       "      <td>9.090000</td>\n",
       "      <td>61.048000</td>\n",
       "      <td>124.000000</td>\n",
       "      <td>346.000000</td>\n",
       "    </tr>\n",
       "  </tbody>\n",
       "</table>\n",
       "</div>"
      ],
      "text/plain": [
       "              AGE         SEX         BMI          S1          S2          S3  \\\n",
       "count  441.000000  441.000000  441.000000  441.000000  441.000000  441.000000   \n",
       "mean    48.494331    1.467120   26.362812  189.213152  115.489569   49.815193   \n",
       "std     13.114378    0.499484    4.414694   34.613383   30.429116   12.936663   \n",
       "min     19.000000    1.000000   18.000000   97.000000   41.600000   22.000000   \n",
       "25%     38.000000    1.000000   23.200000  165.000000   96.200000   41.000000   \n",
       "50%     50.000000    1.000000   25.700000  186.000000  113.000000   48.000000   \n",
       "75%     59.000000    2.000000   29.200000  210.000000  134.600000   58.000000   \n",
       "max     79.000000    2.000000   42.200000  301.000000  242.400000   99.000000   \n",
       "\n",
       "               S4          S5          S6           Y  \n",
       "count  441.000000  441.000000  441.000000  441.000000  \n",
       "mean     4.070408   41.320320   91.269841  152.136054  \n",
       "std      1.291911   14.247448   11.507595   77.180542  \n",
       "min      2.000000    3.912000   58.000000   25.000000  \n",
       "25%      3.000000   40.775000   83.000000   87.000000  \n",
       "50%      4.000000   44.659000   91.000000  140.000000  \n",
       "75%      5.000000   49.345000   98.000000  212.000000  \n",
       "max      9.090000   61.048000  124.000000  346.000000  "
      ]
     },
     "execution_count": 44,
     "metadata": {},
     "output_type": "execute_result"
    }
   ],
   "source": [
    "# in this example we remove BP column\n",
    "df.drop(\"BP\", axis=1).describe(include=\"all\")"
   ]
  },
  {
   "cell_type": "code",
   "execution_count": 45,
   "metadata": {},
   "outputs": [
    {
     "data": {
      "text/plain": [
       "AGE      int64\n",
       "SEX      int64\n",
       "BMI    float64\n",
       "BP     float64\n",
       "S1       int64\n",
       "S2     float64\n",
       "S3     float64\n",
       "S4     float64\n",
       "S5     float64\n",
       "S6       int64\n",
       "Y        int64\n",
       "dtype: object"
      ]
     },
     "execution_count": 45,
     "metadata": {},
     "output_type": "execute_result"
    }
   ],
   "source": [
    "# returns the data type of each column\n",
    "df.dtypes"
   ]
  },
  {
   "cell_type": "markdown",
   "metadata": {},
   "source": [
    "Here are some additional methods that can give you statistics of a DataFrame or particular column in a DataFrame.\n",
    "- .mean(axis=0 [will give you the calculated value per column]) - returns the statistical mean \n",
    "- .median(axis=0 [will give you the calculated value per column]) - returns the statistical median \n",
    "- .mode(axis=0 [will give you the calculated value per column]) - returns the statistical mode\n",
    "- .count() - gives number of total values in column\n",
    "- .unique() - returns array of all unique values in that column\n",
    "- .value_counts() - returns object containing counts of unique values"
   ]
  },
  {
   "cell_type": "code",
   "execution_count": 46,
   "metadata": {},
   "outputs": [
    {
     "data": {
      "text/plain": [
       "48.49433106575964"
      ]
     },
     "execution_count": 46,
     "metadata": {},
     "output_type": "execute_result"
    }
   ],
   "source": [
    "df.AGE.mean()"
   ]
  },
  {
   "cell_type": "code",
   "execution_count": 47,
   "metadata": {},
   "outputs": [
    {
     "data": {
      "text/plain": [
       "441"
      ]
     },
     "execution_count": 47,
     "metadata": {},
     "output_type": "execute_result"
    }
   ],
   "source": [
    "df.BMI.count()"
   ]
  },
  {
   "cell_type": "code",
   "execution_count": 48,
   "metadata": {},
   "outputs": [
    {
     "data": {
      "text/plain": [
       "1    235\n",
       "2    206\n",
       "Name: SEX, dtype: int64"
      ]
     },
     "execution_count": 48,
     "metadata": {},
     "output_type": "execute_result"
    }
   ],
   "source": [
    "df.SEX.value_counts()"
   ]
  },
  {
   "cell_type": "markdown",
   "metadata": {},
   "source": [
    "### Mapping Functions to Transform Data"
   ]
  },
  {
   "cell_type": "markdown",
   "metadata": {},
   "source": [
    "Often times we need to apply a function to a column in a dataset to transform it. pandas makes it easy to do with the .apply() method. In this example, we will map the values in the \"SEX\" column to either a \"MALE\" or \"FEMALE\" depending on the value. We will append this information to the DataFrame in a new column.\n",
    "\n",
    "Try to define your functions in separete modules. In this example we will import our own module my_module.py located in the folder my_modules.\n",
    "\n",
    "Esto es una forma de tener todas las funciones definidas en un lugar para no tener que copiarlas en todos los ficheros de trabajo, si no solo importarlas."
   ]
  },
  {
   "cell_type": "code",
   "execution_count": 29,
   "metadata": {},
   "outputs": [],
   "source": [
    "#add your module folder to the python path\n",
    "import sys\n",
    "sys.path.append('./my_modules/')\n",
    "\n",
    "#my_module is an example of python module created to include your own functions\n",
    "import my_module"
   ]
  },
  {
   "cell_type": "code",
   "execution_count": 30,
   "metadata": {},
   "outputs": [
    {
     "data": {
      "text/plain": [
       "0      MALE\n",
       "1    FEMALE\n",
       "2      MALE\n",
       "3      MALE\n",
       "4      MALE\n",
       "Name: sex_mapped_value, dtype: object"
      ]
     },
     "execution_count": 30,
     "metadata": {},
     "output_type": "execute_result"
    }
   ],
   "source": [
    "# the function mapSEX is located in the file my_module.py. See the file for details\n",
    "df['sex_mapped_value'] = df.SEX.apply(my_module.mapSEX)\n",
    "df.sex_mapped_value.head(5)"
   ]
  },
  {
   "cell_type": "code",
   "execution_count": 31,
   "metadata": {},
   "outputs": [
    {
     "data": {
      "text/plain": [
       "MALE      235\n",
       "FEMALE    206\n",
       "Name: sex_mapped_value, dtype: int64"
      ]
     },
     "execution_count": 31,
     "metadata": {},
     "output_type": "execute_result"
    }
   ],
   "source": [
    "# count based on the new labels\n",
    "df.sex_mapped_value.value_counts()\n",
    "\n",
    "#df.dtypes\n",
    "#df"
   ]
  },
  {
   "cell_type": "markdown",
   "metadata": {},
   "source": [
    "### Histograms\n",
    "\n",
    "A density estimator is an algorithm which seeks to model the probability distribution that generated a dataset. For one dimensional data, you are probably already familiar with one simple density estimator: the histogram. A histogram divides the data into discrete bins, counts the number of points that fall in each bin, and then visualizes the results in an intuitive manner.\n",
    "\n",
    "The standard count-based histogram can be created with the ``plt.hist()`` function.\n",
    "By specifying the ``density`` parameter of the histogram, we end up with a normalized histogram where the height of the bins does not reflect counts, but instead reflects probability density:"
   ]
  },
  {
   "cell_type": "code",
   "execution_count": 32,
   "metadata": {
    "scrolled": false
   },
   "outputs": [
    {
     "data": {
      "image/png": "[encoded data removed]",
      "text/plain": [
       "<Figure size 640x480 with 1 Axes>"
      ]
     },
     "metadata": {},
     "output_type": "display_data"
    }
   ],
   "source": [
    "# output of plotting commands is displayed inline within frontends\n",
    "%matplotlib inline \n",
    "\n",
    "# plt is a function with basic plots\n",
    "import matplotlib.pyplot as plt\n",
    "\n",
    "# plot the standard count-based histogram\n",
    "hist = plt.hist(df.BMI, bins=50, density=True) #normalización para área = 1, no es probabilístico\n",
    "#hist = plt.hist(df.BMI, bins=50)"
   ]
  },
  {
   "cell_type": "markdown",
   "metadata": {},
   "source": [
    "Notice that for equal binning, this normalization simply changes the scale on the y-axis, leaving the relative heights essentially the same as in a histogram built from counts. This normalization is chosen so that the total area under the histogram is equal to 1.\n",
    "\n",
    "One of the issues with using a histogram as a density estimator is that the choice of bin size and location can lead to representations that have qualitatively different features.\n",
    "\n",
    "<br>\n",
    "<font color='red'>TASK 1: TEST DIFFERENT BINS VALUES. REPRESENT AND ANALYZE THE RESULTS</font> \n"
   ]
  },
  {
   "cell_type": "code",
   "execution_count": 52,
   "metadata": {},
   "outputs": [
    {
     "data": {
      "image/png": "[encoded data removed]",
      "text/plain": [
       "<Figure size 640x480 with 9 Axes>"
      ]
     },
     "metadata": {},
     "output_type": "display_data"
    }
   ],
   "source": [
    "fig, axs = plt.subplots(3, 3, layout = 'constrained')\n",
    "axs[0,0].hist(df.BMI, bins=10, density=True)\n",
    "axs[0,0].set_title('10 bins')\n",
    "\n",
    "axs[0,1].hist(df.BMI, bins=20, density=True)\n",
    "axs[0,1].set_title('20 bins')\n",
    "\n",
    "axs[0,2].hist(df.BMI, bins=30, density=True)\n",
    "axs[0,2].set_title('30 bins')\n",
    "\n",
    "axs[1,0].hist(df.BMI, bins=40, density=True)\n",
    "axs[1,0].set_title('40 bins')\n",
    "\n",
    "axs[1,1].hist(df.BMI, bins=50, density=True)\n",
    "axs[1,1].set_title('50 bins')\n",
    "\n",
    "axs[1,2].hist(df.BMI, bins=60, density=True)\n",
    "axs[1,2].set_title('60 bins')\n",
    "\n",
    "axs[2,0].hist(df.BMI, bins=70, density=True)\n",
    "axs[2,0].set_title('70 bins')\n",
    "\n",
    "axs[2,1].hist(df.BMI, bins=80, density=True)\n",
    "axs[2,1].set_title('80 bins')\n",
    "\n",
    "axs[2,2].hist(df.BMI, bins=90, density=True)\n",
    "axs[2,2].set_title('90 bins')\n",
    "\n",
    "plt.show()"
   ]
  },
  {
   "cell_type": "markdown",
   "metadata": {},
   "source": [
    "<br>\n",
    "<font color='red'>ADD YOUR ANALYSIS</font> \n",
    "<br>\n",
    "\n",
    "Cuanto menor sea el número de bins, más grandes son las secciones en las que se dividen los datos, agrupando a más personas. De esta forma, se pueden compensar los valores extremos.\n",
    "\n",
    "Si el número de bins aumenta, eso significa que los datos se separan en más grupos, pudiendo polarizar más las cuentas."
   ]
  },
  {
   "cell_type": "markdown",
   "metadata": {},
   "source": [
    "### Kernel Density Estimation in Practice\n",
    "\n",
    "The free parameters of kernel density estimation are the *kernel*, which specifies the shape of the distribution placed at each point, and the *kernel bandwidth*, which controls the size of the kernel at each point.\n",
    "In practice, there are many kernels you might use for a kernel density estimation: in particular, the Scikit-Learn KDE implementation supports one of six kernels, which you can read about in Scikit-Learn's [Density Estimation documentation](http://scikit-learn.org/stable/modules/density.html).\n",
    "\n",
    "Let's first show a simple example of replicating the above plot using the Scikit-Learn ``KernelDensity`` estimator. The selection of bandwidth is an important piece of KDE. For the same input data, different bandwidths can produce very different results:"
   ]
  },
  {
   "cell_type": "code",
   "execution_count": 37,
   "metadata": {},
   "outputs": [
    {
     "name": "stderr",
     "output_type": "stream",
     "text": [
      "C:\\Users\\Sandra\\AppData\\Local\\Temp\\ipykernel_7120\\488866511.py:12: FutureWarning: Support for multi-dimensional indexing (e.g. `obj[:, None]`) is deprecated and will be removed in a future version.  Convert to a numpy array before indexing instead.\n",
      "  kde.fit(x[:, None])\n"
     ]
    },
    {
     "data": {
      "text/plain": [
       "(-0.02, 0.1)"
      ]
     },
     "execution_count": 37,
     "metadata": {},
     "output_type": "execute_result"
    },
    {
     "data": {
      "image/png": "[encoded data removed]",
      "text/plain": [
       "<Figure size 640x480 with 1 Axes>"
      ]
     },
     "metadata": {},
     "output_type": "display_data"
    }
   ],
   "source": [
    "from sklearn.neighbors import KernelDensity\n",
    "import numpy as np\n",
    "\n",
    "# in this example we will estimate the kernel density of the BMI feature\n",
    "x=df.BMI\n",
    "# sampling with 100 points from 15 to 45\n",
    "x_d = np.linspace(15, 45, 100)\n",
    "\n",
    "# instantiate the KDE model, parameters bandwidth and kernel determine the estimation\n",
    "kde = KernelDensity(bandwidth=1.0, kernel='gaussian')\n",
    "# fit the KDE model to the data, BMI feature in this example\n",
    "kde.fit(x[:, None])\n",
    "\n",
    "# score_samples returns the log of the probability density\n",
    "logprob = kde.score_samples(x_d[:, None])\n",
    "\n",
    "# plot the envelope of the KDE model\n",
    "plt.fill_between(x_d, np.exp(logprob), alpha=0.5)\n",
    "#plot the data used to fit the model, the data is plotted in possition -0.01\n",
    "plt.plot(x, np.full_like(x, -0.01), '|k', markeredgewidth=1)\n",
    "plt.ylim(-0.02, 0.10)\n",
    "\n"
   ]
  },
  {
   "cell_type": "markdown",
   "metadata": {},
   "source": [
    "\n",
    "<br>\n",
    "<font color='red'>TASK 2: TEST DIFFERENT BANDWIDTH VALUES AND KERNEL FUNCTIONS. REPRESENT AND ANALYZE THE RESULTS</font> "
   ]
  },
  {
   "cell_type": "code",
   "execution_count": 50,
   "metadata": {},
   "outputs": [],
   "source": [
    "# Add your code\n",
    "\n"
   ]
  },
  {
   "cell_type": "markdown",
   "metadata": {},
   "source": [
    "<br>\n",
    "<font color='red'>ADD YOUR ANALYSIS</font> \n",
    "<br>\n",
    "<br>\n",
    "<br>\n",
    "<br>\n",
    "<br>"
   ]
  }
 ],
 "metadata": {
  "kernelspec": {
   "display_name": "Python 3 (ipykernel)",
   "language": "python",
   "name": "python3"
  },
  "language_info": {
   "codemirror_mode": {
    "name": "ipython",
    "version": 3
   },
   "file_extension": ".py",
   "mimetype": "text/x-python",
   "name": "python",
   "nbconvert_exporter": "python",
   "pygments_lexer": "ipython3",
   "version": "3.10.9"
  }
 },
 "nbformat": 4,
 "nbformat_minor": 1
}
