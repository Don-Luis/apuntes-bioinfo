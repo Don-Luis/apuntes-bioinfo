{
 "cells": [
  {
   "cell_type": "markdown",
   "metadata": {},
   "source": [
    "<font color=\"#6E6E6E\"><h2 align=\"center\">Numpy python library</h2></font>\n",
    "<font color=\"#279D9F\"><h6 align=\"center\">Adapted from a notebok of Luis Fernándo Lago Fernández - Universidad Autónoma de Madrid</h2></font>\n",
    "<h6 align=\"center\">(Translation and adaptation: Gonzalo Martínez Muñoz)</h6>"
   ]
  },
  {
   "cell_type": "markdown",
   "metadata": {},
   "source": [
    "## NumPy Library\n",
    "\n",
    "<a href=\"http://www.numpy.org/\">Numpy</a> (Numerical Python) is an easy-to-use package to work with numerical arrays and matrices. This package is fast and memory efficient. \n",
    "\n",
    "The main object in NumPy is *ndarray* that represents multidimensional arrays."
   ]
  },
  {
   "cell_type": "markdown",
   "metadata": {},
   "source": [
    "## 1. Class ndarray\n",
    "\n",
    "An <a href=\"http://docs.scipy.org/doc/numpy-1.9.1/reference/generated/numpy.ndarray.html\">ndarray</a> object represents a multidimensional array of elements. All elements are of the same type: int, float, boolean, string, etc. The type in generally assigned in the creation of the object."
   ]
  },
  {
   "cell_type": "code",
   "execution_count": 2,
   "metadata": {},
   "outputs": [
    {
     "data": {
      "text/plain": [
       "array([[1, 2],\n",
       "       [3, 4],\n",
       "       [5, 6]])"
      ]
     },
     "execution_count": 2,
     "metadata": {},
     "output_type": "execute_result"
    }
   ],
   "source": [
    "# Importing numpy and creating an ndarray to represent a 3x3 matrix:\n",
    "import numpy as np\n",
    "\n",
    "data = np.array([[1, 2], [3, 4], [5, 6]])\n",
    "data"
   ]
  },
  {
   "cell_type": "markdown",
   "metadata": {},
   "source": [
    "All ndarray objects have a *shape* attribute to indicate the size of the array, and an attribute *dtype* to indicate the type of the elements of the arrays."
   ]
  },
  {
   "cell_type": "code",
   "execution_count": 2,
   "metadata": {},
   "outputs": [
    {
     "name": "stdout",
     "output_type": "stream",
     "text": [
      "(3, 2)\n",
      "This array has 3 rows and 2 columns\n"
     ]
    }
   ],
   "source": [
    "# Size of the array:\n",
    "print(data.shape)\n",
    "print(\"This array has {0} rows and {1} columns\".format(data.shape[0], data.shape[1]))"
   ]
  },
  {
   "cell_type": "code",
   "execution_count": 3,
   "metadata": {},
   "outputs": [
    {
     "data": {
      "text/plain": [
       "dtype('int32')"
      ]
     },
     "execution_count": 3,
     "metadata": {},
     "output_type": "execute_result"
    }
   ],
   "source": [
    "# Type of the elements of the array:\n",
    "data.dtype"
   ]
  },
  {
   "cell_type": "markdown",
   "metadata": {},
   "source": [
    "### Array creation\n",
    "\n",
    "A array can be created from any other sequence (lists or other ndarrays), using <a href=\"http://docs.scipy.org/doc/numpy-1.9.1/reference/generated/numpy.array.html#numpy.array\">numpy.array</a> function. It is possible to specify in the construction the type of the array (dtype) and the dimension. \n",
    "\n",
    "Some examples:"
   ]
  },
  {
   "cell_type": "code",
   "execution_count": 4,
   "metadata": {},
   "outputs": [
    {
     "name": "stdout",
     "output_type": "stream",
     "text": [
      "(3,)\n"
     ]
    },
    {
     "data": {
      "text/plain": [
       "array([1, 2, 3])"
      ]
     },
     "execution_count": 4,
     "metadata": {},
     "output_type": "execute_result"
    }
   ],
   "source": [
    "# Creating an array from a standard python list:\n",
    "x = np.array([1, 2, 3])\n",
    "print(x.shape)\n",
    "x"
   ]
  },
  {
   "cell_type": "code",
   "execution_count": 5,
   "metadata": {},
   "outputs": [
    {
     "data": {
      "text/plain": [
       "array([1, 2, 3])"
      ]
     },
     "execution_count": 5,
     "metadata": {},
     "output_type": "execute_result"
    }
   ],
   "source": [
    "# From other ndarray:\n",
    "y = np.array(x)\n",
    "y"
   ]
  },
  {
   "cell_type": "code",
   "execution_count": 9,
   "metadata": {},
   "outputs": [
    {
     "name": "stdout",
     "output_type": "stream",
     "text": [
      "int32\n",
      "[1 2 3]\n",
      "float64\n",
      "[1. 2. 3.]\n"
     ]
    }
   ],
   "source": [
    "# The type is selected as the minimum type that covers all data:\n",
    "x = np.array([1, 2, 3])\n",
    "print(x.dtype)\n",
    "print(x)\n",
    "y = np.array([1, 2, 3.0])\n",
    "print(y.dtype)\n",
    "print(y)"
   ]
  },
  {
   "cell_type": "code",
   "execution_count": 7,
   "metadata": {
    "scrolled": true
   },
   "outputs": [
    {
     "name": "stdout",
     "output_type": "stream",
     "text": [
      "(1, 3)\n"
     ]
    },
    {
     "data": {
      "text/plain": [
       "array([[1, 2, 3]])"
      ]
     },
     "execution_count": 7,
     "metadata": {},
     "output_type": "execute_result"
    }
   ],
   "source": [
    "# Setting the number of dimensions:\n",
    "x = np.array([1, 2, 3], ndmin = 2)\n",
    "print(x.shape)\n",
    "x"
   ]
  },
  {
   "cell_type": "code",
   "execution_count": 8,
   "metadata": {},
   "outputs": [
    {
     "data": {
      "text/plain": [
       "dtype('float64')"
      ]
     },
     "execution_count": 8,
     "metadata": {},
     "output_type": "execute_result"
    }
   ],
   "source": [
    "# Setting the type:\n",
    "x = np.array([1, 2, 3], dtype=float)\n",
    "x.dtype"
   ]
  },
  {
   "cell_type": "markdown",
   "metadata": {},
   "source": [
    "Other functions to create and initialize arrays/matrices:\n",
    "\n",
    "- Arrays of zeros: <a href=\"http://docs.scipy.org/doc/numpy/reference/generated/numpy.zeros.html\">numpy.zeros</a> and <a href=\"http://docs.scipy.org/doc/numpy/reference/generated/numpy.zeros_like.html\">numpy.zeros_like</a> \n",
    "- Arrays of ones: <a href=\"http://docs.scipy.org/doc/numpy/reference/generated/numpy.ones.html\">numpy.ones</a> and <a href=\"http://docs.scipy.org/doc/numpy/reference/generated/numpy.ones_like.html\">numpy.ones_like</a>\n",
    "- Identity matrix: <a href=\"http://docs.scipy.org/doc/numpy/reference/generated/numpy.eye.html\">numpy.eye</a> and <a href=\"http://docs.scipy.org/doc/numpy/reference/generated/numpy.identity.html\">numpy.identity</a>\n",
    "- The function <a href=\"http://docs.scipy.org/doc/numpy/reference/generated/numpy.arange.html\">numpy.arange</a> behaves similarly to the standard python function <tt>range</tt>, but returns an ndarray.\n",
    "- The function <a href=\"http://docs.scipy.org/doc/numpy/reference/generated/numpy.linspace.html\">numpy.linspace</a> returns evenly spaced numbers over a specified interval."
   ]
  },
  {
   "cell_type": "code",
   "execution_count": 10,
   "metadata": {},
   "outputs": [
    {
     "data": {
      "text/plain": [
       "array([[0., 0.],\n",
       "       [0., 0.],\n",
       "       [0., 0.]])"
      ]
     },
     "execution_count": 10,
     "metadata": {},
     "output_type": "execute_result"
    }
   ],
   "source": [
    "# 3x2 matrix of zeros:\n",
    "np.zeros((3,2))"
   ]
  },
  {
   "cell_type": "code",
   "execution_count": 11,
   "metadata": {},
   "outputs": [
    {
     "data": {
      "text/plain": [
       "array([1, 1, 1])"
      ]
     },
     "execution_count": 11,
     "metadata": {},
     "output_type": "execute_result"
    }
   ],
   "source": [
    "# Array of ones with the same size of x:\n",
    "x = np.array([1, 2, 3])\n",
    "np.ones_like(x)"
   ]
  },
  {
   "cell_type": "code",
   "execution_count": 12,
   "metadata": {},
   "outputs": [
    {
     "data": {
      "text/plain": [
       "array([[1., 0., 0., 0., 0.],\n",
       "       [0., 1., 0., 0., 0.],\n",
       "       [0., 0., 1., 0., 0.],\n",
       "       [0., 0., 0., 1., 0.],\n",
       "       [0., 0., 0., 0., 1.]])"
      ]
     },
     "execution_count": 12,
     "metadata": {},
     "output_type": "execute_result"
    }
   ],
   "source": [
    "# Identity matrix of 5x5:\n",
    "np.identity(5)"
   ]
  },
  {
   "cell_type": "code",
   "execution_count": 13,
   "metadata": {
    "scrolled": true
   },
   "outputs": [
    {
     "name": "stdout",
     "output_type": "stream",
     "text": [
      "[0 1 2 3 4 5 6 7 8 9]\n",
      "[1 3 5 7 9]\n"
     ]
    }
   ],
   "source": [
    "# Creating different series\n",
    "y = np.arange(10)\n",
    "print(y)\n",
    "# From 1 (included) to 11 (excluded) in steps of 2\n",
    "x = np.arange(1,11,2)\n",
    "print(x)"
   ]
  },
  {
   "cell_type": "code",
   "execution_count": 56,
   "metadata": {},
   "outputs": [
    {
     "name": "stdout",
     "output_type": "stream",
     "text": [
      "[7.21784159e-04 3.60196134e-03 1.79750765e-02 8.97020666e-02\n",
      " 4.47645424e-01 2.23391092e+00 1.11480152e+01 5.56325865e+01\n",
      " 2.77626522e+02 1.38545573e+03]\n"
     ]
    }
   ],
   "source": [
    "# Generate an array of 10 elements evenly separated between -pi and pi\n",
    "np.linspace(-np.pi,np.pi,10)\n",
    "#np.logspace(-np.pi,np.pi,10)"
   ]
  },
  {
   "cell_type": "markdown",
   "metadata": {},
   "source": [
    "### Basic operations with arrays\n",
    "\n",
    "Arithmetic operations can be performed with ndarrays using the same syntax as the one used for scalars and avoiding the use of explicit loops. \n",
    "\n"
   ]
  },
  {
   "cell_type": "code",
   "execution_count": 15,
   "metadata": {},
   "outputs": [
    {
     "data": {
      "text/plain": [
       "array([[1, 2, 3],\n",
       "       [4, 5, 6]])"
      ]
     },
     "execution_count": 15,
     "metadata": {},
     "output_type": "execute_result"
    }
   ],
   "source": [
    "# We create an ndarray:\n",
    "data = np.array([[1, 2, 3], [4, 5, 6]])\n",
    "data"
   ]
  },
  {
   "cell_type": "markdown",
   "metadata": {},
   "source": [
    "#### Arithmetic operations of ndarray and scalars \n",
    "The operation is performed to each element of the array"
   ]
  },
  {
   "cell_type": "code",
   "execution_count": 17,
   "metadata": {},
   "outputs": [
    {
     "data": {
      "text/plain": [
       "array([[2, 3, 4],\n",
       "       [5, 6, 7]])"
      ]
     },
     "execution_count": 17,
     "metadata": {},
     "output_type": "execute_result"
    }
   ],
   "source": [
    "# Add up a scalar to the array:\n",
    "data + 1"
   ]
  },
  {
   "cell_type": "code",
   "execution_count": 18,
   "metadata": {},
   "outputs": [
    {
     "data": {
      "text/plain": [
       "array([[10, 20, 30],\n",
       "       [40, 50, 60]])"
      ]
     },
     "execution_count": 18,
     "metadata": {},
     "output_type": "execute_result"
    }
   ],
   "source": [
    "# Multiply by an scalar:\n",
    "data * 10"
   ]
  },
  {
   "cell_type": "markdown",
   "metadata": {},
   "source": [
    "#### Arithmetic operations between arrays of the same size\n",
    "Arithmetic operations between arrays are also performed element by element\n"
   ]
  },
  {
   "cell_type": "code",
   "execution_count": 19,
   "metadata": {},
   "outputs": [
    {
     "data": {
      "text/plain": [
       "array([[ 2,  4,  6],\n",
       "       [ 8, 10, 12]])"
      ]
     },
     "execution_count": 19,
     "metadata": {},
     "output_type": "execute_result"
    }
   ],
   "source": [
    "# Adding two arrays:\n",
    "data + data"
   ]
  },
  {
   "cell_type": "code",
   "execution_count": 20,
   "metadata": {},
   "outputs": [
    {
     "data": {
      "text/plain": [
       "array([[ 1,  4,  9],\n",
       "       [16, 25, 36]])"
      ]
     },
     "execution_count": 20,
     "metadata": {},
     "output_type": "execute_result"
    }
   ],
   "source": [
    "# Multiplying two arrays:\n",
    "data * data"
   ]
  },
  {
   "cell_type": "markdown",
   "metadata": {},
   "source": [
    "#### Boolean operations\n",
    "All normal boolean operations, that is '<', '>', '>=', ==, etc., are applied element by element and an array of booleans is returned."
   ]
  },
  {
   "cell_type": "code",
   "execution_count": 22,
   "metadata": {},
   "outputs": [
    {
     "name": "stdout",
     "output_type": "stream",
     "text": [
      "[[1 2 3]\n",
      " [4 5 6]\n",
      " [4 5 6]]\n"
     ]
    },
    {
     "data": {
      "text/plain": [
       "array([[False, False, False],\n",
       "       [False,  True,  True],\n",
       "       [False,  True,  True]])"
      ]
     },
     "execution_count": 22,
     "metadata": {},
     "output_type": "execute_result"
    }
   ],
   "source": [
    "data = np.array([[1, 2, 3], [4, 5, 6], [4, 5, 6]])\n",
    "print(data)\n",
    "data > 4"
   ]
  },
  {
   "cell_type": "markdown",
   "metadata": {},
   "source": [
    "## Exercises\n",
    "\n",
    "1. Built a squared matrix of 5x5 elements such that:\n",
    "    - All elements in the diagonal are 10\n",
    "    - All elements outside the diagonal are 5\n",
    "2. Create an array containing the names of the days of the week. What is it dtype?"
   ]
  },
  {
   "cell_type": "code",
   "execution_count": 54,
   "metadata": {},
   "outputs": [
    {
     "name": "stdout",
     "output_type": "stream",
     "text": [
      "[[10.  5.  5.  5.  5.]\n",
      " [ 5. 10.  5.  5.  5.]\n",
      " [ 5.  5. 10.  5.  5.]\n",
      " [ 5.  5.  5. 10.  5.]\n",
      " [ 5.  5.  5.  5. 10.]]\n",
      "[[10.  5.  5.  5.  5.]\n",
      " [ 5. 10.  5.  5.  5.]\n",
      " [ 5.  5. 10.  5.  5.]\n",
      " [ 5.  5.  5. 10.  5.]\n",
      " [ 5.  5.  5.  5. 10.]]\n"
     ]
    }
   ],
   "source": [
    "#1\n",
    "sqr_matrix = np.identity(5)*5+5\n",
    "print(sqr_matrix)\n",
    "sqr_matrix2 = (np.identity(5)+1)*5\n",
    "print(sqr_matrix2)"
   ]
  },
  {
   "cell_type": "code",
   "execution_count": 58,
   "metadata": {},
   "outputs": [
    {
     "data": {
      "text/plain": [
       "array([[10.,  5.,  5.,  5.,  5.],\n",
       "       [ 5., 10.,  5.,  5.,  5.],\n",
       "       [ 5.,  5., 10.,  5.,  5.],\n",
       "       [ 5.,  5.,  5., 10.,  5.],\n",
       "       [ 5.,  5.,  5.,  5., 10.]])"
      ]
     },
     "execution_count": 58,
     "metadata": {},
     "output_type": "execute_result"
    }
   ],
   "source": [
    "def diag2(n, f):\n",
    "\t''' f: factor\n",
    "    n: tamaño del array'''\n",
    "\treturn (np.identity(n) + 1) * f\n",
    "diag2(5,5)"
   ]
  },
  {
   "cell_type": "code",
   "execution_count": 33,
   "metadata": {},
   "outputs": [
    {
     "name": "stdout",
     "output_type": "stream",
     "text": [
      "<U9\n"
     ]
    }
   ],
   "source": [
    "#2\n",
    "\n",
    "weekdays_matrix = np.array(['Monday', 'Tuesday', 'Wednesday', \n",
    "                         'Thursday', 'Friday', 'Saturday', 'Sunday'])\n",
    "print(weekdays_matrix.dtype)"
   ]
  },
  {
   "cell_type": "markdown",
   "metadata": {},
   "source": [
    "## 2. Indexing and slicing\n",
    "\n",
    "For unidimensional arrays, slicing works like for standard python lists:"
   ]
  },
  {
   "cell_type": "code",
   "execution_count": 59,
   "metadata": {},
   "outputs": [
    {
     "data": {
      "text/plain": [
       "array([0, 1, 2, 3, 4, 5, 6, 7, 8, 9])"
      ]
     },
     "execution_count": 59,
     "metadata": {},
     "output_type": "execute_result"
    }
   ],
   "source": [
    "# Create an ndarray of one dimenion with numbers 0 to 9:\n",
    "x = np.arange(10)\n",
    "x"
   ]
  },
  {
   "cell_type": "code",
   "execution_count": 60,
   "metadata": {},
   "outputs": [
    {
     "data": {
      "text/plain": [
       "4"
      ]
     },
     "execution_count": 60,
     "metadata": {},
     "output_type": "execute_result"
    }
   ],
   "source": [
    "# Access to element in position 4 (arrays are 0-indexed):\n",
    "x[4]"
   ]
  },
  {
   "cell_type": "code",
   "execution_count": 61,
   "metadata": {},
   "outputs": [
    {
     "data": {
      "text/plain": [
       "array([2, 3, 4, 5, 6])"
      ]
     },
     "execution_count": 61,
     "metadata": {},
     "output_type": "execute_result"
    }
   ],
   "source": [
    "# Access to elements from position 2 (included) to 7 (excluded):\n",
    "x[2:7]"
   ]
  },
  {
   "cell_type": "code",
   "execution_count": 62,
   "metadata": {},
   "outputs": [
    {
     "data": {
      "text/plain": [
       "array([7, 8, 9])"
      ]
     },
     "execution_count": 62,
     "metadata": {},
     "output_type": "execute_result"
    }
   ],
   "source": [
    "# Last three elements:\n",
    "x[-3:]"
   ]
  },
  {
   "cell_type": "markdown",
   "metadata": {},
   "source": [
    "If a scalar value is assigned to a *slice*, the value is assigned to all elements in the slice "
   ]
  },
  {
   "cell_type": "code",
   "execution_count": 63,
   "metadata": {},
   "outputs": [
    {
     "data": {
      "text/plain": [
       "array([ 0,  1,  2,  3, -1, -1, -1,  7,  8,  9])"
      ]
     },
     "execution_count": 63,
     "metadata": {},
     "output_type": "execute_result"
    }
   ],
   "source": [
    "# Assigning value -1 to slice x[4:7]:\n",
    "x[4:7] = -1\n",
    "x"
   ]
  },
  {
   "cell_type": "markdown",
   "metadata": {},
   "source": [
    "If a array is assigned to a *slice*, the values are assigned one by one to the selected elements in the slice "
   ]
  },
  {
   "cell_type": "code",
   "execution_count": 64,
   "metadata": {},
   "outputs": [
    {
     "name": "stdout",
     "output_type": "stream",
     "text": [
      "[0 1 2 3 4 5 6 7 8 9]\n"
     ]
    },
    {
     "data": {
      "text/plain": [
       "array([19,  1, 17,  3, 15,  5, 13,  7, 11,  9])"
      ]
     },
     "execution_count": 64,
     "metadata": {},
     "output_type": "execute_result"
    }
   ],
   "source": [
    "# Assigning value -1 to slice x[4:7]:\n",
    "x = np.arange(10)\n",
    "print(x)\n",
    "x[0::2] = [19,17,15,13,11]\n",
    "x"
   ]
  },
  {
   "cell_type": "markdown",
   "metadata": {},
   "source": [
    "Note that if you get a reference to a slice, the elements are not copied and only the reference to the slice elements are kept. This means that if you use the slice afterwards to modify its values, the values are changed in the original array. Let's see an example:"
   ]
  },
  {
   "cell_type": "code",
   "execution_count": 73,
   "metadata": {},
   "outputs": [
    {
     "data": {
      "text/plain": [
       "array([[1, 1, 1],\n",
       "       [1, 1, 1],\n",
       "       [1, 1, 1],\n",
       "       [1, 1, 1],\n",
       "       [1, 1, 1]])"
      ]
     },
     "execution_count": 73,
     "metadata": {},
     "output_type": "execute_result"
    }
   ],
   "source": [
    "x = np.ones((5,3), dtype=int)\n",
    "x"
   ]
  },
  {
   "cell_type": "code",
   "execution_count": 72,
   "metadata": {},
   "outputs": [
    {
     "data": {
      "text/plain": [
       "array([[1, 1],\n",
       "       [1, 1],\n",
       "       [1, 1]])"
      ]
     },
     "execution_count": 72,
     "metadata": {},
     "output_type": "execute_result"
    }
   ],
   "source": [
    "y = x[:5:2,1:3]\n",
    "y"
   ]
  },
  {
   "cell_type": "code",
   "execution_count": 70,
   "metadata": {
    "scrolled": true
   },
   "outputs": [
    {
     "data": {
      "text/plain": [
       "array([[ 1, 25, 25],\n",
       "       [ 1,  1,  1],\n",
       "       [ 1, 25, 25],\n",
       "       [ 1,  1,  1],\n",
       "       [ 1, 25, 25]])"
      ]
     },
     "execution_count": 70,
     "metadata": {},
     "output_type": "execute_result"
    }
   ],
   "source": [
    "y[:] = 25\n",
    "x"
   ]
  },
  {
   "cell_type": "markdown",
   "metadata": {},
   "source": [
    "If we need a copy of the slice instead of a reference to the values in the original arrays, we can use the copy() function:"
   ]
  },
  {
   "cell_type": "code",
   "execution_count": 74,
   "metadata": {},
   "outputs": [
    {
     "data": {
      "text/plain": [
       "array([0, 1, 2, 3, 4, 5, 6, 7, 8, 9])"
      ]
     },
     "execution_count": 74,
     "metadata": {},
     "output_type": "execute_result"
    }
   ],
   "source": [
    "x = np.arange(10)\n",
    "x"
   ]
  },
  {
   "cell_type": "code",
   "execution_count": 75,
   "metadata": {},
   "outputs": [
    {
     "data": {
      "text/plain": [
       "array([0, 1, 2])"
      ]
     },
     "execution_count": 75,
     "metadata": {},
     "output_type": "execute_result"
    }
   ],
   "source": [
    "y = x[:3].copy()\n",
    "y"
   ]
  },
  {
   "cell_type": "code",
   "execution_count": 76,
   "metadata": {},
   "outputs": [
    {
     "name": "stdout",
     "output_type": "stream",
     "text": [
      "[0 1 2 3 4 5 6 7 8 9]\n",
      "[ 0  1 25]\n"
     ]
    }
   ],
   "source": [
    "y[2] = 25\n",
    "print(x)\n",
    "print(y)"
   ]
  },
  {
   "cell_type": "markdown",
   "metadata": {},
   "source": [
    "With multidimensional arrays we use the same ideas for slicing. Commas are used to separate the slices for each dimension:"
   ]
  },
  {
   "cell_type": "code",
   "execution_count": 78,
   "metadata": {},
   "outputs": [
    {
     "data": {
      "text/plain": [
       "array([[ 1,  2,  3,  4],\n",
       "       [ 5,  6,  7,  8],\n",
       "       [ 9, 10, 11, 12],\n",
       "       [13, 14, 15, 16]])"
      ]
     },
     "execution_count": 78,
     "metadata": {},
     "output_type": "execute_result"
    }
   ],
   "source": [
    "data = np.array([[1, 2, 3, 4], [5, 6, 7, 8], [9, 10, 11, 12], [13, 14, 15, 16]])\n",
    "data"
   ]
  },
  {
   "cell_type": "code",
   "execution_count": 79,
   "metadata": {},
   "outputs": [
    {
     "data": {
      "text/plain": [
       "array([6, 7])"
      ]
     },
     "execution_count": 79,
     "metadata": {},
     "output_type": "execute_result"
    }
   ],
   "source": [
    "# Access columns 1 to 3 (excluded) of row 1:\n",
    "data[1,1:3]"
   ]
  },
  {
   "cell_type": "code",
   "execution_count": 80,
   "metadata": {
    "scrolled": true
   },
   "outputs": [
    {
     "data": {
      "text/plain": [
       "array([[ 5,  6,  7,  8],\n",
       "       [ 9, 10, 11, 12]])"
      ]
     },
     "execution_count": 80,
     "metadata": {},
     "output_type": "execute_result"
    }
   ],
   "source": [
    "# If only the first dimension is given we will access rows. In this case rows 1 and 2\n",
    "data[1:3]"
   ]
  },
  {
   "cell_type": "code",
   "execution_count": 81,
   "metadata": {},
   "outputs": [
    {
     "data": {
      "text/plain": [
       "array([[ 2,  3],\n",
       "       [ 6,  7],\n",
       "       [10, 11],\n",
       "       [14, 15]])"
      ]
     },
     "execution_count": 81,
     "metadata": {},
     "output_type": "execute_result"
    }
   ],
   "source": [
    "# If we want to select complete columns we put ':' in the first dimension to \n",
    "# indicate that all elements are selected. For instance this code selects \n",
    "# columns 1 and 2:\n",
    "data[:, 1:3]"
   ]
  },
  {
   "cell_type": "code",
   "execution_count": 82,
   "metadata": {},
   "outputs": [
    {
     "data": {
      "text/plain": [
       "array([[ 6,  8],\n",
       "       [14, 16]])"
      ]
     },
     "execution_count": 82,
     "metadata": {},
     "output_type": "execute_result"
    }
   ],
   "source": [
    "# Multiple slice along both dimensions:\n",
    "data[1:4:2, 1:4:2]"
   ]
  },
  {
   "cell_type": "markdown",
   "metadata": {},
   "source": [
    "### Boolean indexing\n",
    "\n",
    "It is posible to use an array of boolean values (True/False) to select elements from the ndarray. \n",
    "\n",
    "In the next example, we first create a matrix of normal random numbers"
   ]
  },
  {
   "cell_type": "code",
   "execution_count": 83,
   "metadata": {},
   "outputs": [
    {
     "data": {
      "text/plain": [
       "array([[ 1.04641955, -1.45606284,  0.40657132],\n",
       "       [ 0.26352206, -0.89930644,  0.6182393 ],\n",
       "       [-0.67780179,  0.32454297,  1.17200945],\n",
       "       [-0.43900153,  0.42115866,  0.46682241],\n",
       "       [ 0.23027901,  1.40398617, -0.52401569],\n",
       "       [-2.21870546,  0.61607108, -1.21852446],\n",
       "       [-0.2165149 , -1.05522391,  1.79847349],\n",
       "       [-0.78535649,  2.51108983, -1.02716463],\n",
       "       [-1.06364468,  3.9569818 ,  0.98471536],\n",
       "       [ 0.70239547,  0.21571521,  0.47272245]])"
      ]
     },
     "execution_count": 83,
     "metadata": {},
     "output_type": "execute_result"
    }
   ],
   "source": [
    "# Matrix with normal random numbers of size 10x3:\n",
    "data = np.random.randn(10, 3)\n",
    "data"
   ]
  },
  {
   "cell_type": "code",
   "execution_count": 84,
   "metadata": {},
   "outputs": [
    {
     "data": {
      "text/plain": [
       "array([1.04641955, 0.40657132, 0.26352206, 0.6182393 , 0.32454297,\n",
       "       1.17200945, 0.42115866, 0.46682241, 0.23027901, 1.40398617,\n",
       "       0.61607108, 1.79847349, 2.51108983, 3.9569818 , 0.98471536,\n",
       "       0.70239547, 0.21571521, 0.47272245])"
      ]
     },
     "execution_count": 84,
     "metadata": {},
     "output_type": "execute_result"
    }
   ],
   "source": [
    "# Select positive numbers\n",
    "data[data>0]"
   ]
  },
  {
   "cell_type": "code",
   "execution_count": 85,
   "metadata": {},
   "outputs": [
    {
     "data": {
      "text/plain": [
       "array([ True,  True, False, False,  True, False, False, False, False,\n",
       "        True])"
      ]
     },
     "execution_count": 85,
     "metadata": {},
     "output_type": "execute_result"
    }
   ],
   "source": [
    "# Crating the boolean indexes of the rows whose first element is positive\n",
    "ix = data[:,0] > 0\n",
    "ix"
   ]
  },
  {
   "cell_type": "code",
   "execution_count": 86,
   "metadata": {},
   "outputs": [
    {
     "data": {
      "text/plain": [
       "array([[ 1.04641955, -1.45606284,  0.40657132],\n",
       "       [ 0.26352206, -0.89930644,  0.6182393 ],\n",
       "       [ 0.23027901,  1.40398617, -0.52401569],\n",
       "       [ 0.70239547,  0.21571521,  0.47272245]])"
      ]
     },
     "execution_count": 86,
     "metadata": {},
     "output_type": "execute_result"
    }
   ],
   "source": [
    "# Now we use the boolean index to select the rows that start with a positive number:\n",
    "selected = data[ix, :]\n",
    "selected"
   ]
  },
  {
   "cell_type": "markdown",
   "metadata": {},
   "source": [
    "It is important to note that boolean indexing always creates a copy differently to slicing."
   ]
  },
  {
   "cell_type": "code",
   "execution_count": 87,
   "metadata": {},
   "outputs": [
    {
     "data": {
      "text/plain": [
       "array([[ 1.04641955, -1.45606284,  0.40657132],\n",
       "       [ 1.        ,  1.        ,  1.        ],\n",
       "       [ 0.23027901,  1.40398617, -0.52401569],\n",
       "       [ 0.70239547,  0.21571521,  0.47272245]])"
      ]
     },
     "execution_count": 87,
     "metadata": {},
     "output_type": "execute_result"
    }
   ],
   "source": [
    "# We change some selected elements:\n",
    "selected[1, :] = 1\n",
    "selected"
   ]
  },
  {
   "cell_type": "code",
   "execution_count": 88,
   "metadata": {},
   "outputs": [
    {
     "data": {
      "text/plain": [
       "array([[ 1.04641955, -1.45606284,  0.40657132],\n",
       "       [ 0.26352206, -0.89930644,  0.6182393 ],\n",
       "       [-0.67780179,  0.32454297,  1.17200945],\n",
       "       [-0.43900153,  0.42115866,  0.46682241],\n",
       "       [ 0.23027901,  1.40398617, -0.52401569],\n",
       "       [-2.21870546,  0.61607108, -1.21852446],\n",
       "       [-0.2165149 , -1.05522391,  1.79847349],\n",
       "       [-0.78535649,  2.51108983, -1.02716463],\n",
       "       [-1.06364468,  3.9569818 ,  0.98471536],\n",
       "       [ 0.70239547,  0.21571521,  0.47272245]])"
      ]
     },
     "execution_count": 88,
     "metadata": {},
     "output_type": "execute_result"
    }
   ],
   "source": [
    "# The original array remains the same:\n",
    "data"
   ]
  },
  {
   "cell_type": "markdown",
   "metadata": {
    "collapsed": true
   },
   "source": [
    "It is possible to combine several boolean operations using (and), | (or) and ~ (negation)."
   ]
  },
  {
   "cell_type": "code",
   "execution_count": 89,
   "metadata": {},
   "outputs": [
    {
     "data": {
      "text/plain": [
       "array([[ 0.23027901,  1.40398617, -0.52401569]])"
      ]
     },
     "execution_count": 89,
     "metadata": {},
     "output_type": "execute_result"
    }
   ],
   "source": [
    "# Select the rows where the first element is positive and the last negative:\n",
    "data[(data[:, 0] > 0) & (data[:, 2] < 0), :]"
   ]
  },
  {
   "cell_type": "code",
   "execution_count": 90,
   "metadata": {},
   "outputs": [
    {
     "data": {
      "text/plain": [
       "array([[ 1.04641955, -1.45606284,  0.40657132],\n",
       "       [ 0.26352206, -0.89930644,  0.6182393 ],\n",
       "       [ 0.23027901,  1.40398617, -0.52401569],\n",
       "       [-2.21870546,  0.61607108, -1.21852446],\n",
       "       [-0.78535649,  2.51108983, -1.02716463],\n",
       "       [ 0.70239547,  0.21571521,  0.47272245]])"
      ]
     },
     "execution_count": 90,
     "metadata": {},
     "output_type": "execute_result"
    }
   ],
   "source": [
    "# Select the rows where the first element is positive or the last negative:\n",
    "data[(data[:, 0] > 0) | (data[:, 2] < 0), :]"
   ]
  },
  {
   "cell_type": "code",
   "execution_count": 91,
   "metadata": {},
   "outputs": [
    {
     "data": {
      "text/plain": [
       "array([[-0.67780179,  0.32454297,  1.17200945],\n",
       "       [-0.43900153,  0.42115866,  0.46682241],\n",
       "       [-2.21870546,  0.61607108, -1.21852446],\n",
       "       [-0.2165149 , -1.05522391,  1.79847349],\n",
       "       [-0.78535649,  2.51108983, -1.02716463],\n",
       "       [-1.06364468,  3.9569818 ,  0.98471536]])"
      ]
     },
     "execution_count": 91,
     "metadata": {},
     "output_type": "execute_result"
    }
   ],
   "source": [
    "# Select the rows where the first element is not positive:\n",
    "data[~(data[:, 0] > 0), :]"
   ]
  },
  {
   "cell_type": "markdown",
   "metadata": {},
   "source": [
    "Boolean indexing can also be used to assign values to the elements of the array that satisfy a condition:"
   ]
  },
  {
   "cell_type": "code",
   "execution_count": 92,
   "metadata": {},
   "outputs": [
    {
     "data": {
      "text/plain": [
       "array([[1.04641955, 0.        , 0.40657132],\n",
       "       [0.26352206, 0.        , 0.6182393 ],\n",
       "       [0.        , 0.32454297, 1.17200945],\n",
       "       [0.        , 0.42115866, 0.46682241],\n",
       "       [0.23027901, 1.40398617, 0.        ],\n",
       "       [0.        , 0.61607108, 0.        ],\n",
       "       [0.        , 0.        , 1.79847349],\n",
       "       [0.        , 2.51108983, 0.        ],\n",
       "       [0.        , 3.9569818 , 0.98471536],\n",
       "       [0.70239547, 0.21571521, 0.47272245]])"
      ]
     },
     "execution_count": 92,
     "metadata": {},
     "output_type": "execute_result"
    }
   ],
   "source": [
    "# Assign 0 to all negative elements\n",
    "data[data < 0] = 0\n",
    "data"
   ]
  },
  {
   "cell_type": "markdown",
   "metadata": {},
   "source": [
    "### Fancy indexing\n",
    "\n",
    "It is also possible to index using integer arrays in a similar way to slicing. These integers indicate the column or row indexes to select. This type of indexing is useful, for instance, to select rows and columns in an order different to the original one."
   ]
  },
  {
   "cell_type": "code",
   "execution_count": 93,
   "metadata": {},
   "outputs": [
    {
     "data": {
      "text/plain": [
       "array([[  0.,   0.,   0.],\n",
       "       [  1.,  10., 100.],\n",
       "       [  2.,  20., 200.],\n",
       "       [  3.,  30., 300.],\n",
       "       [  4.,  40., 400.]])"
      ]
     },
     "execution_count": 93,
     "metadata": {},
     "output_type": "execute_result"
    }
   ],
   "source": [
    "# Create a matrix and initialize it:\n",
    "nrows = 5\n",
    "ncols = 3\n",
    "p = 1\n",
    "data = np.zeros((nrows, ncols))\n",
    "for i in range(ncols):\n",
    "    data[:, i] = np.arange(nrows)*p\n",
    "    p*=10\n",
    "data"
   ]
  },
  {
   "cell_type": "code",
   "execution_count": 94,
   "metadata": {},
   "outputs": [
    {
     "data": {
      "text/plain": [
       "array([[  3.,  30., 300.],\n",
       "       [  1.,  10., 100.]])"
      ]
     },
     "execution_count": 94,
     "metadata": {},
     "output_type": "execute_result"
    }
   ],
   "source": [
    "# Select rows 3 and 1 in this order:\n",
    "data[[3, 1]]"
   ]
  },
  {
   "cell_type": "code",
   "execution_count": 95,
   "metadata": {},
   "outputs": [
    {
     "data": {
      "text/plain": [
       "array([[  0.,   0.],\n",
       "       [100.,   1.],\n",
       "       [200.,   2.],\n",
       "       [300.,   3.],\n",
       "       [400.,   4.]])"
      ]
     },
     "execution_count": 95,
     "metadata": {},
     "output_type": "execute_result"
    }
   ],
   "source": [
    "# Select column 2 and 0 in this order:\n",
    "data[:, [2, 0]]"
   ]
  },
  {
   "cell_type": "markdown",
   "metadata": {},
   "source": [
    "## Ejercicios"
   ]
  },
  {
   "cell_type": "code",
   "execution_count": null,
   "metadata": {},
   "outputs": [],
   "source": [
    "# Exercise 1.\n",
    "# Suppose we execute this code:\n",
    "x = np.array([1, 2, 3, 4, 5])\n",
    "y = x[:3]\n",
    "print(id(y))\n",
    "y = 100*y\n",
    "#y[:] = 100*y # <-- Check the difference with this\n",
    "print(id(y))\n",
    "# What happens when printing x?\n",
    "print(x)\n",
    "# and printing y?\n",
    "print(y)\n",
    "# Why?"
   ]
  },
  {
   "cell_type": "code",
   "execution_count": 101,
   "metadata": {},
   "outputs": [
    {
     "name": "stdout",
     "output_type": "stream",
     "text": [
      "[1 2 3]\n",
      "[100 200 300]\n",
      "[1 2 3 4 5]\n",
      "[100 200 300]\n",
      "[100 200 300   4   5]\n"
     ]
    }
   ],
   "source": [
    "x = np.array([1, 2, 3, 4, 5])\n",
    "y = x[:3]\n",
    "print(y)\n",
    "y = 100*y\n",
    "print(y)\n",
    "print(x)\n",
    "y = x[:3]\n",
    "y[:] = 100*y\n",
    "print(y)\n",
    "print(x)"
   ]
  },
  {
   "cell_type": "code",
   "execution_count": 45,
   "metadata": {},
   "outputs": [
    {
     "name": "stdout",
     "output_type": "stream",
     "text": [
      "[7.77702411e+00 2.37541220e+00 8.24278533e+00 9.65749198e+00\n",
      " 9.72601114e+00 4.53449247e+00 6.09042463e+00 7.75526515e+00\n",
      " 6.41613345e+00 7.22018230e+00 3.50365241e-01 2.98449471e+00\n",
      " 5.85124919e-01 8.57060943e+00 3.72854028e+00 6.79847952e+00\n",
      " 2.56279949e+00 3.47581215e+00 9.41277008e-02 3.58333783e+00\n",
      " 9.49094182e+00 2.17899009e+00 3.19391366e+00 9.17772386e+00\n",
      " 3.19036664e-01 6.50845370e-01 6.29828999e+00 8.73813443e+00\n",
      " 8.71573230e-02 7.46577237e+00 8.12841171e+00 7.57174462e-01\n",
      " 6.56455335e+00 5.09262200e+00 4.79883391e+00 9.55574145e+00\n",
      " 1.20335695e-04 2.46978701e+00 7.12232678e+00 3.24582050e+00\n",
      " 2.76996356e+00 6.95445453e+00 9.18551748e+00 2.44475702e+00\n",
      " 4.58085817e+00 2.52992683e+00 3.79333291e+00 6.04538829e+00\n",
      " 7.72378760e+00 6.79174968e-01 6.86085079e+00 5.48260097e+00\n",
      " 1.37986053e+00 9.87532192e-01 2.45559105e+00 1.51786663e+00\n",
      " 9.25994479e+00 6.80105016e+00 2.37658922e+00 5.68885253e+00\n",
      " 5.56632051e+00 7.27372109e-01 8.39708510e+00 4.05319493e+00\n",
      " 1.44870989e+00 1.90920059e+00 4.90640137e+00 7.12024374e+00\n",
      " 9.84938458e+00 8.74786502e+00 4.99041684e+00 1.06779994e+00\n",
      " 9.13212807e+00 3.64915961e+00 2.26587877e+00 8.72431862e+00\n",
      " 1.36358352e+00 2.36380160e+00 5.95399245e+00 5.63922609e+00\n",
      " 9.58934732e+00 4.53239333e+00 1.28958075e+00 7.60567677e+00\n",
      " 2.01634075e+00 1.75729863e+00 4.37118013e+00 3.40260803e+00\n",
      " 9.67253109e+00 1.43026077e+00 8.44558533e+00 6.69406140e+00\n",
      " 1.09304908e+00 8.82535400e-01 9.66462041e+00 1.94297485e+00\n",
      " 8.19000600e-01 2.69384695e+00 6.50130518e+00 5.46777245e+00]\n",
      "['NOTABLE' 'SUSPENSO' 'NOTABLE' 'SOBRESALIENTE' 'SOBRESALIENTE' 'SUSPENSO'\n",
      " 'APROBADO' 'NOTABLE' 'APROBADO' 'NOTABLE' 'SUSPENSO' 'SUSPENSO'\n",
      " 'SUSPENSO' 'NOTABLE' 'SUSPENSO' 'APROBADO' 'SUSPENSO' 'SUSPENSO'\n",
      " 'SUSPENSO' 'SUSPENSO' 'SOBRESALIENTE' 'SUSPENSO' 'SUSPENSO'\n",
      " 'SOBRESALIENTE' 'SUSPENSO' 'SUSPENSO' 'APROBADO' 'NOTABLE' 'SUSPENSO'\n",
      " 'NOTABLE' 'NOTABLE' 'SUSPENSO' 'APROBADO' 'APROBADO' 'SUSPENSO'\n",
      " 'SOBRESALIENTE' 'SUSPENSO' 'SUSPENSO' 'NOTABLE' 'SUSPENSO' 'SUSPENSO'\n",
      " 'APROBADO' 'SOBRESALIENTE' 'SUSPENSO' 'SUSPENSO' 'SUSPENSO' 'SUSPENSO'\n",
      " 'APROBADO' 'NOTABLE' 'SUSPENSO' 'APROBADO' 'APROBADO' 'SUSPENSO'\n",
      " 'SUSPENSO' 'SUSPENSO' 'SUSPENSO' 'SOBRESALIENTE' 'APROBADO' 'SUSPENSO'\n",
      " 'APROBADO' 'APROBADO' 'SUSPENSO' 'NOTABLE' 'SUSPENSO' 'SUSPENSO'\n",
      " 'SUSPENSO' 'SUSPENSO' 'NOTABLE' 'SOBRESALIENTE' 'NOTABLE' 'SUSPENSO'\n",
      " 'SUSPENSO' 'SOBRESALIENTE' 'SUSPENSO' 'SUSPENSO' 'NOTABLE' 'SUSPENSO'\n",
      " 'SUSPENSO' 'APROBADO' 'APROBADO' 'SOBRESALIENTE' 'SUSPENSO' 'SUSPENSO'\n",
      " 'NOTABLE' 'SUSPENSO' 'SUSPENSO' 'SUSPENSO' 'SUSPENSO' 'SOBRESALIENTE'\n",
      " 'SUSPENSO' 'NOTABLE' 'APROBADO' 'SUSPENSO' 'SUSPENSO' 'SOBRESALIENTE'\n",
      " 'SUSPENSO' 'SUSPENSO' 'SUSPENSO' 'APROBADO' 'APROBADO']\n"
     ]
    }
   ],
   "source": [
    "# Exercise 2.\n",
    "# The following array contains a list of 100 random grades from 0 to 10:\n",
    "n = 100\n",
    "np.random.seed(13)\n",
    "notas = np.random.rand(n)*10\n",
    "# Built an array that has a qualitative mark for each numeric grade as \n",
    "# cualitativa de acuerdo al siguiente esquema:\n",
    "# [0, 5) --> SUSPENSO\n",
    "# [5, 7) --> APROBADO\n",
    "# [7, 9) --> NOTABLE\n",
    "# [9, 10) --> SOBRESALIENTE\n",
    "\n",
    "# Here your code\n",
    "print(notas)\n",
    "\n",
    "notas_cual = np.array(notas, dtype=str)\n",
    "notas_cual[notas < 5] = \"SUSPENSO\"\n",
    "notas_cual[(notas >= 5) & (notas < 7) ] = \"APROBADO\"\n",
    "notas_cual[(notas >= 7) & (notas < 9) ] = \"NOTABLE\"\n",
    "notas_cual[notas >= 9] = \"SOBRESALIENTE\"\n",
    "        \n",
    "\n",
    "print(notas_cual)"
   ]
  },
  {
   "cell_type": "code",
   "execution_count": 48,
   "metadata": {},
   "outputs": [
    {
     "name": "stdout",
     "output_type": "stream",
     "text": [
      "54\n",
      "18\n",
      "16\n",
      "12\n"
     ]
    }
   ],
   "source": [
    "# Exercise 3. \n",
    "# Now count the number of SUSPENSOS, \n",
    "# APROBADOS, NOTABLES and SOBRESALIENTES.\n",
    "print(np.sum(notas_cual == \"SUSPENSO\"))\n",
    "print(np.sum(notas_cual == \"APROBADO\"))\n",
    "print(np.sum(notas_cual == \"NOTABLE\"))\n",
    "print(np.sum(notas_cual == \"SOBRESALIENTE\"))"
   ]
  },
  {
   "cell_type": "code",
   "execution_count": 49,
   "metadata": {},
   "outputs": [
    {
     "name": "stdout",
     "output_type": "stream",
     "text": [
      "# de  APROBADO : 18\n",
      "# de  NOTABLE : 16\n",
      "# de  SOBRESALIENTE : 12\n",
      "# de  SUSPENSO : 54\n"
     ]
    }
   ],
   "source": [
    "for value in np.unique(notas_cual):\n",
    "    print(\"# de \", value, \":\", np.sum(notas_cual == value))"
   ]
  },
  {
   "cell_type": "markdown",
   "metadata": {},
   "source": [
    "## 3. Array operations\n",
    "\n",
    "### Transpose\n",
    "\n",
    "To transpose a 2D array you can use the method transpose() or the attribute T. "
   ]
  },
  {
   "cell_type": "code",
   "execution_count": 50,
   "metadata": {},
   "outputs": [
    {
     "data": {
      "text/plain": [
       "array([[ 1,  2,  3,  4],\n",
       "       [ 5,  6,  7,  8],\n",
       "       [ 9, 10, 11, 12],\n",
       "       [13, 14, 15, 16]])"
      ]
     },
     "execution_count": 50,
     "metadata": {},
     "output_type": "execute_result"
    }
   ],
   "source": [
    "# 4x4 matrix:\n",
    "data = np.array([[1, 2, 3, 4], [5, 6, 7, 8], [9, 10, 11, 12], [13, 14, 15, 16]])\n",
    "data"
   ]
  },
  {
   "cell_type": "code",
   "execution_count": 51,
   "metadata": {},
   "outputs": [
    {
     "data": {
      "text/plain": [
       "array([[ 1,  5,  9, 13],\n",
       "       [ 2,  6, 10, 14],\n",
       "       [ 3,  7, 11, 15],\n",
       "       [ 4,  8, 12, 16]])"
      ]
     },
     "execution_count": 51,
     "metadata": {},
     "output_type": "execute_result"
    }
   ],
   "source": [
    "# Transpose using T:\n",
    "data.T"
   ]
  },
  {
   "cell_type": "code",
   "execution_count": null,
   "metadata": {},
   "outputs": [],
   "source": [
    "# Transpose using the method transpose()\n",
    "data.transpose()\n"
   ]
  },
  {
   "cell_type": "markdown",
   "metadata": {},
   "source": [
    "It is also possible to transpose multidimensional arrays by specifying the indexes of he axis that are to be swapped. More info in: <a href=\"http://docs.scipy.org/doc/numpy/reference/generated/numpy.ndarray.transpose.html\">ndarray.transpose()</a> and <a href=\"http://docs.scipy.org/doc/numpy/reference/generated/numpy.ndarray.swapaxes.html\">ndarray.swapaxes()</a>."
   ]
  },
  {
   "cell_type": "markdown",
   "metadata": {},
   "source": [
    "### Change the shape of an array (reshape y ravel)\n",
    "\n",
    "- The method <a href=\"http://docs.scipy.org/doc/numpy/reference/generated/numpy.ndarray.reshape.html\">ndarray.reshape()</a> changes the shape of an array without changing its content, just readjusting it. The total number of cells in both arrays should be equal. \n",
    "- The method <a href=\"http://docs.scipy.org/doc/numpy/reference/generated/numpy.ndarray.ravel.html\">ndarray.ravel()</a> flattens an array into a one dimension array.\n",
    "- The method <a href=\"http://docs.scipy.org/doc/numpy-1.10.1/reference/generated/numpy.concatenate.html\">numpy.concatenate</a> concatenates two arrays along one axis, given that the size along the other dimension is the same.\n",
    "\n",
    "Some examples:"
   ]
  },
  {
   "cell_type": "code",
   "execution_count": 52,
   "metadata": {},
   "outputs": [
    {
     "name": "stdout",
     "output_type": "stream",
     "text": [
      "[ 1  2  3  4  5  6  7  8  9 10 11 12]\n"
     ]
    }
   ],
   "source": [
    "# One dimension array with 1-12:\n",
    "x = np.arange(1, 13) \n",
    "print(x)"
   ]
  },
  {
   "cell_type": "code",
   "execution_count": 53,
   "metadata": {},
   "outputs": [
    {
     "name": "stdout",
     "output_type": "stream",
     "text": [
      "[[ 1  2  3  4]\n",
      " [ 5  6  7  8]\n",
      " [ 9 10 11 12]]\n"
     ]
    }
   ],
   "source": [
    "# Change it to 3x4:\n",
    "y = x.reshape(3, 4)\n",
    "print(y)"
   ]
  },
  {
   "cell_type": "code",
   "execution_count": 54,
   "metadata": {},
   "outputs": [
    {
     "name": "stdout",
     "output_type": "stream",
     "text": [
      "[ 1  2  3  4  5  6  7  8  9 10 11 12]\n"
     ]
    }
   ],
   "source": [
    "# Flatten the array again:\n",
    "z = y.ravel()\n",
    "print(z)"
   ]
  },
  {
   "cell_type": "code",
   "execution_count": 55,
   "metadata": {},
   "outputs": [
    {
     "name": "stdout",
     "output_type": "stream",
     "text": [
      "[[0. 0. 0. 0.]\n",
      " [0. 0. 0. 0.]\n",
      " [0. 0. 0. 0.]]\n",
      "[[1. 1.]\n",
      " [1. 1.]\n",
      " [1. 1.]]\n"
     ]
    }
   ],
   "source": [
    "# Two arrays of 0's and 1's:\n",
    "x = np.zeros((3, 4))\n",
    "print(x)\n",
    "y = np.ones((3, 2))\n",
    "print(y)\n"
   ]
  },
  {
   "cell_type": "code",
   "execution_count": 56,
   "metadata": {},
   "outputs": [
    {
     "data": {
      "text/plain": [
       "array([[0., 0., 0., 0., 1., 1.],\n",
       "       [0., 0., 0., 0., 1., 1.],\n",
       "       [0., 0., 0., 0., 1., 1.]])"
      ]
     },
     "execution_count": 56,
     "metadata": {},
     "output_type": "execute_result"
    }
   ],
   "source": [
    "# Concatenate along axis 1 (columns):\n",
    "np.concatenate((x, y), axis = 1)"
   ]
  },
  {
   "cell_type": "code",
   "execution_count": 57,
   "metadata": {},
   "outputs": [
    {
     "data": {
      "text/plain": [
       "array([[0., 0.],\n",
       "       [0., 0.],\n",
       "       [0., 0.],\n",
       "       [1., 1.],\n",
       "       [1., 1.],\n",
       "       [1., 1.]])"
      ]
     },
     "execution_count": 57,
     "metadata": {},
     "output_type": "execute_result"
    }
   ],
   "source": [
    "# Concatenate by rows (axis 0) getting only the first two columns of x:\n",
    "np.concatenate((x[:, :2], y), axis = 0)"
   ]
  },
  {
   "cell_type": "code",
   "execution_count": 58,
   "metadata": {},
   "outputs": [
    {
     "name": "stdout",
     "output_type": "stream",
     "text": [
      "[[ 1  2  3  4]\n",
      " [ 5  6  7  8]\n",
      " [ 9 10 11 12]\n",
      " [13 14 15 16]]\n",
      "[28 32 36 40]\n",
      "[10 26 42 58]\n"
     ]
    }
   ],
   "source": [
    "print(data)\n",
    "print(np.sum(data, axis = 0))\n",
    "print(np.sum(data, axis = 1))\n"
   ]
  }
 ],
 "metadata": {
  "kernelspec": {
   "display_name": "Python 3 (ipykernel)",
   "language": "python",
   "name": "python3"
  },
  "language_info": {
   "codemirror_mode": {
    "name": "ipython",
    "version": 3
   },
   "file_extension": ".py",
   "mimetype": "text/x-python",
   "name": "python",
   "nbconvert_exporter": "python",
   "pygments_lexer": "ipython3",
   "version": "3.10.9"
  }
 },
 "nbformat": 4,
 "nbformat_minor": 1
}
