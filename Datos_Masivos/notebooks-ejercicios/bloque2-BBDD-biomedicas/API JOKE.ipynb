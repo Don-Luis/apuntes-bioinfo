{
 "cells": [
  {
   "cell_type": "code",
   "execution_count": 1,
   "id": "81615ecd",
   "metadata": {},
   "outputs": [
    {
     "name": "stdout",
     "output_type": "stream",
     "text": [
      "¿Por qué C consigue todas las chicas y Java no tiene ninguna? \n",
      " Porque C no las trata como objetos.\n"
     ]
    }
   ],
   "source": [
    "import requests, json, sys\n",
    "\n",
    "server =  \"https://v2.jokeapi.dev/joke/\"\n",
    "language = \"es\"\n",
    "category = \"Any\"\n",
    "\n",
    "\n",
    "r = requests.get(server + category + \"?lang=\" + language, \n",
    "                 headers={ \"Content-Type\" : \"application/json\"})\n",
    "\n",
    "if not r.ok:\n",
    "  r.raise_for_status()\n",
    "  sys.exit()\n",
    "\n",
    "\n",
    "r_dict = json.loads(r.text)\n",
    "\n",
    "if \"joke\" not in r_dict:\n",
    "    print(r_dict[\"setup\"], \"\\n\", r_dict[\"delivery\"])\n",
    "else:\n",
    "    print(r_dict[\"joke\"])\n"
   ]
  }
 ],
 "metadata": {
  "kernelspec": {
   "display_name": "Python 3 (ipykernel)",
   "language": "python",
   "name": "python3"
  },
  "language_info": {
   "codemirror_mode": {
    "name": "ipython",
    "version": 3
   },
   "file_extension": ".py",
   "mimetype": "text/x-python",
   "name": "python",
   "nbconvert_exporter": "python",
   "pygments_lexer": "ipython3",
   "version": "3.10.9"
  }
 },
 "nbformat": 4,
 "nbformat_minor": 5
}
