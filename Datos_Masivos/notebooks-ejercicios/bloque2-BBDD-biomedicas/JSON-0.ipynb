{
 "cells": [
  {
   "cell_type": "markdown",
   "metadata": {
    "id": "9mNJ0MAAi-uY"
   },
   "source": [
    "# JSON-0 - Exercises\n",
    "\n",
    "**JSON notebook**\n"
   ]
  },
  {
   "cell_type": "markdown",
   "metadata": {
    "id": "K498Th0ZkGUo"
   },
   "source": [
    "1. Just run the following program and observe the output. Which is its type?"
   ]
  },
  {
   "cell_type": "code",
   "execution_count": 1,
   "metadata": {
    "id": "Uql6NNMsjInp"
   },
   "outputs": [
    {
     "name": "stdout",
     "output_type": "stream",
     "text": [
      "{\"name\":\"John\", \"age\":30, \"city\":\"New York\"}\n",
      "<class 'str'>\n"
     ]
    }
   ],
   "source": [
    "import json\n",
    "\n",
    "# some JSON:\n",
    "json_data =  '{\"name\":\"John\", \"age\":30, \"city\":\"New York\"}'\n",
    "\n",
    "# Print JSON\n",
    "print(json_data)\n",
    "print(type(json_data))\n",
    "\n",
    "# What is exactly the type?"
   ]
  },
  {
   "cell_type": "markdown",
   "metadata": {
    "id": "ykWLHpv6jWNk"
   },
   "source": [
    "2. JSON structures are similar to dictionaries, but are different datatypes! What's wrong with the following code?\n"
   ]
  },
  {
   "cell_type": "code",
   "execution_count": 4,
   "metadata": {
    "id": "bpbavhgBjdt-"
   },
   "outputs": [
    {
     "name": "stdout",
     "output_type": "stream",
     "text": [
      "30\n"
     ]
    }
   ],
   "source": [
    "import json\n",
    "\n",
    "# some JSON:\n",
    "json_data =  '{ \"name\":\"John\", \"age\":30, \"city\":\"New York\"}'\n",
    "dict_data = json.loads(json_data)\n",
    "\n",
    "# What is exactly the type?\n",
    "print(dict_data['age'])"
   ]
  },
  {
   "cell_type": "markdown",
   "metadata": {
    "id": "M-w7CksblVyc"
   },
   "source": [
    "3. Before accesing and working with a JSON structure, it must be converted to a dictionary with the *json.loads()* function. But this program has a important error, please fix it"
   ]
  },
  {
   "cell_type": "code",
   "execution_count": 5,
   "metadata": {
    "id": "npfA_6mPmBzn"
   },
   "outputs": [
    {
     "name": "stdout",
     "output_type": "stream",
     "text": [
      "<class 'str'>\n",
      "<class 'dict'>\n",
      "The age of John is 30\n"
     ]
    }
   ],
   "source": [
    "import json\n",
    "\n",
    "# some JSON:\n",
    "json_data =  '{ \"name\":\"John\", \"age\":30, \"city\":\"New York\"}'\n",
    "\n",
    "# parse x:\n",
    "dict_data = json.loads(json_data)\n",
    "\n",
    "print(type(json_data))\n",
    "print(type(dict_data))\n",
    "# the result is a Python dictionary:\n",
    "print(f'The age of {dict_data[\"name\"]} is {dict_data[\"age\"]}')"
   ]
  },
  {
   "cell_type": "markdown",
   "metadata": {
    "id": "_7c3NOvfmmCF"
   },
   "source": [
    "4. If you have a Python object, you can convert it into a JSON string by using the *json.dumps()* method."
   ]
  },
  {
   "cell_type": "code",
   "execution_count": 6,
   "metadata": {
    "id": "cQ-J2TBOmtWK"
   },
   "outputs": [
    {
     "name": "stdout",
     "output_type": "stream",
     "text": [
      "{\"name\": \"John\", \"age\": 30, \"city\": \"New York\"}\n"
     ]
    }
   ],
   "source": [
    "import json\n",
    "\n",
    "# a Python object (dict):\n",
    "dict_data = {\n",
    "  \"name\": \"John\",\n",
    "  \"age\": 30,\n",
    "  \"city\": \"New York\",\n",
    "}\n",
    "\n",
    "# Convert into JSON\n",
    "json_data = json.dumps(dict_data)\n",
    "\n",
    "# The result is now a JSON string\n",
    "print(json_data)"
   ]
  },
  {
   "cell_type": "markdown",
   "metadata": {
    "id": "-7xpNbaCpkDU"
   },
   "source": [
    "5. If the structure is big, showing it in one line is not very clear. Use the following parameter for a prettier format:"
   ]
  },
  {
   "cell_type": "code",
   "execution_count": 7,
   "metadata": {
    "id": "Al2xgKM23uuk"
   },
   "outputs": [
    {
     "name": "stdout",
     "output_type": "stream",
     "text": [
      "{'name': 'John', 'age': 30, 'city': 'New York'}\n",
      "{\n",
      "  \"name\": \"John\",\n",
      "  \"age\": 30,\n",
      "  \"city\": \"New York\"\n",
      "}\n"
     ]
    }
   ],
   "source": [
    "import json\n",
    "\n",
    "# some JSON:\n",
    "data =  '{ \"name\":\"John\", \"age\":30, \"city\":\"New York\"}'\n",
    "\n",
    "# Print the JSON structure\n",
    "json_data = json.loads(data)\n",
    "print(json_data)\n",
    "\n",
    "# A bit prettier\n",
    "print(json.dumps(json_data, indent = 2))\n"
   ]
  },
  {
   "cell_type": "markdown",
   "metadata": {
    "id": "GdISiFI-GmLt"
   },
   "source": [
    "5. Write a program to show only the names of the persons contained in the 'people.json' file, along the city where they live (for example, \"John - New York\")"
   ]
  },
  {
   "cell_type": "code",
   "execution_count": 15,
   "metadata": {},
   "outputs": [
    {
     "name": "stdout",
     "output_type": "stream",
     "text": [
      "John - New York\n",
      "Oscar - Madrid\n",
      "Clara - Barcelona\n",
      "Beatriz - Malaga\n"
     ]
    }
   ],
   "source": [
    "import json\n",
    "\n",
    "json_data = open('people.json', 'r').read()\n",
    "dict_data = json.loads(json_data)\n",
    "\n",
    "for person in dict_data:\n",
    "    print(f'{person[\"name\"]} - {person[\"city\"]}')"
   ]
  },
  {
   "cell_type": "markdown",
   "metadata": {
    "id": "mTNLPVf84g_6"
   },
   "source": [
    "6. Once a JSON structure have been converted to a native dictionary, it can be used and modified as usual. In this case, write a program to modify the city of each person to Madrid and write the result into a file named 'people_from_madrid.json'"
   ]
  },
  {
   "cell_type": "code",
   "execution_count": 17,
   "metadata": {},
   "outputs": [
    {
     "data": {
      "text/plain": [
       "193"
      ]
     },
     "execution_count": 17,
     "metadata": {},
     "output_type": "execute_result"
    }
   ],
   "source": [
    "import json\n",
    "\n",
    "json_data = open('people.json', 'r').read()\n",
    "dict_data = json.loads(json_data)\n",
    "\n",
    "for person in dict_data:\n",
    "    person[\"city\"] = \"Madrid\"\n",
    "\n",
    "json_data_madrid = json.dumps(dict_data)\n",
    "\n",
    "open(\"people_from_madrid.json\", \"a\").write(json_data_madrid)"
   ]
  },
  {
   "cell_type": "markdown",
   "metadata": {
    "id": "86kqcmceLOES"
   },
   "source": [
    "-----"
   ]
  },
  {
   "cell_type": "markdown",
   "metadata": {
    "id": "iUQPDkX4MyFW"
   },
   "source": [
    "# Solutions"
   ]
  },
  {
   "cell_type": "markdown",
   "metadata": {
    "id": "Rh6crQCyM4Rh"
   },
   "source": [
    "5. Show the name and city of people"
   ]
  },
  {
   "cell_type": "code",
   "execution_count": null,
   "metadata": {
    "id": "UVM9KXGoM9tL"
   },
   "outputs": [],
   "source": [
    "import json\n",
    "\n",
    "# Read the file\n",
    "json_data = open('people.json').read()\n",
    "\n",
    "# Convert JSON to a native type\n",
    "dict_data = json.loads(json_data)\n",
    "\n",
    "# Show only the name of the people\n",
    "for person in dict_data:\n",
    "    # Now person is a dictionary\n",
    "    print(f\"{person['name']} - {person['city']}\")"
   ]
  },
  {
   "cell_type": "markdown",
   "metadata": {
    "id": "u5DPfPyB5Ams"
   },
   "source": [
    "6. Modify the residence of people to Madrid, and write the results into a file"
   ]
  },
  {
   "cell_type": "code",
   "execution_count": null,
   "metadata": {
    "id": "v250bV-84_xU"
   },
   "outputs": [],
   "source": [
    "import json\n",
    "\n",
    "# a Python object (dict):\n",
    "dict_data = open('sample_data/people.json', 'r').read()\n",
    "\n",
    "# Convert into a dictionary\n",
    "json_data = json.loads(dict_data)\n",
    "\n",
    "for person in json_data:\n",
    "  person['city'] = 'Madrid'\n",
    "\n",
    "madrid_str_data = json.dumps(json_data)\n",
    "\n",
    "madrid_data = open('people_from_madrid.json', 'w').write(madrid_str_data)\n"
   ]
  },
  {
   "cell_type": "markdown",
   "metadata": {
    "id": "BALHdV7ONSc6"
   },
   "source": [
    "# **ASSIGNMENT**"
   ]
  },
  {
   "cell_type": "markdown",
   "metadata": {
    "id": "gnLe9YgVo9va"
   },
   "source": [
    "**ASSIGNMENT JSON1**. Write a program to read the 'anscombe.json' file from 'sample_data' and to calculate, for each serie, the average value for X and Y"
   ]
  }
 ],
 "metadata": {
  "colab": {
   "provenance": [],
   "toc_visible": true
  },
  "kernelspec": {
   "display_name": "Python 3 (ipykernel)",
   "language": "python",
   "name": "python3"
  },
  "language_info": {
   "codemirror_mode": {
    "name": "ipython",
    "version": 3
   },
   "file_extension": ".py",
   "mimetype": "text/x-python",
   "name": "python",
   "nbconvert_exporter": "python",
   "pygments_lexer": "ipython3",
   "version": "3.10.9"
  }
 },
 "nbformat": 4,
 "nbformat_minor": 1
}
