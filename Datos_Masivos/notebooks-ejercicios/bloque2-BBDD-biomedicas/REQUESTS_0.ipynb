{
 "cells": [
  {
   "cell_type": "markdown",
   "metadata": {
    "id": "nxipPZYCtCNj"
   },
   "source": [
    "# REQUESTS-0 - Exercises\n",
    "\n",
    "**Request library notebook**"
   ]
  },
  {
   "cell_type": "markdown",
   "metadata": {
    "id": "_fT21T7n6jEh"
   },
   "source": [
    "Notebook with exercises for practicing the use of the requests library"
   ]
  },
  {
   "cell_type": "markdown",
   "metadata": {
    "id": "WeTVsElz-KMr"
   },
   "source": [
    "# 1. Start using 'requests' library"
   ]
  },
  {
   "cell_type": "markdown",
   "metadata": {
    "id": "dCSn1uqs8KbO"
   },
   "source": [
    "Start by choosing one of the following APIs\n",
    "\n",
    "**1. Chuck Norris API**\n",
    "This is a free JSON API for hand-curated Chuck Norris facts. It also has Slack and Facebook messenger integration! For example, you can retrieve a random chuck joke in JSON format —\n",
    "\n",
    "https://api.chucknorris.io/jokes/random\n",
    "\n",
    "**2. Numbers API**\n",
    "An API for interesting facts about numbers. It provides trivia, math, date, and year facts about numbers. For example, if I look for date facts on February 29th, I get the following result.\n",
    "\n",
    "http://numbersapi.com/#42\n",
    "\n",
    "**3. Bored API**\n",
    "This is something you could add to your personal website, for instance. The Bored API ensures that a user is never bored. When requested, it responds with a random activity for the user to do. You can even customize the type and the number of participants!\n",
    "\n",
    "https://www.boredapi.com/\n",
    "\n",
    "**4. Agify API**\n",
    "How do you tell the age of someone from their name? Well, here is a fun little API that you can use. Agify is used for predicting the age of a person given their name. It is free to use for up to 1000 requests/day. You can try out the following in your browser —\n",
    "\n",
    "https://api.agify.io?name=michael\n",
    "\n",
    "Write a small script to use them!\n",
    "\n",
    "\n",
    "\n"
   ]
  },
  {
   "cell_type": "markdown",
   "metadata": {
    "id": "Dk7oPwwn-HKB"
   },
   "source": []
  },
  {
   "cell_type": "markdown",
   "metadata": {
    "id": "-SxzLQBO7j9S"
   },
   "source": [
    "# 2. Basic library usage"
   ]
  },
  {
   "cell_type": "markdown",
   "metadata": {
    "id": "nYtHd6s-ttph"
   },
   "source": [
    "1. Modify the following program to get the ‘id’ parameter from the user and show the result."
   ]
  },
  {
   "cell_type": "code",
   "execution_count": 9,
   "metadata": {
    "colab": {
     "base_uri": "https://localhost:8080/"
    },
    "id": "drpVD36ItGtI",
    "outputId": "8f8c8750-38c6-4612-fa28-a9cd6a17fbd9"
   },
   "outputs": [
    {
     "name": "stdout",
     "output_type": "stream",
     "text": [
      "Introduce el identificador J00231\n",
      "ID   J00231; SV 1; linear; mRNA; STD; HUM; 1089 BP.\n",
      "XX\n",
      "AC   J00231;\n",
      "XX\n",
      "DT   13-JUN-1985 (Rel. 06, Created)\n",
      "DT   17-APR-2005 (Rel. 83, Last updated, Version 9)\n",
      "XX\n",
      "DE   Human Ig gamma3 heavy chain disease OMM protein mRNA.\n",
      "XX\n",
      "KW   C-region; gamma heavy chain disease protein;\n",
      "KW   gamma3 heavy chain disease protein; heavy chain disease; hinge exon;\n",
      "KW   immunoglobulin gamma-chain; immunoglobulin heavy chain;\n",
      "KW   secreted immunoglobulin; V-region.\n",
      "XX\n",
      "OS   Homo sapiens (human)\n",
      "OC   Eukaryota; Metazoa; Chordata; Craniata; Vertebrata; Euteleostomi; Mammalia;\n",
      "OC   Eutheria; Euarchontoglires; Primates; Haplorrhini; Catarrhini; Hominidae;\n",
      "OC   Homo.\n",
      "XX\n",
      "RN   [1]\n",
      "RP   1-1089\n",
      "RX   DOI; 10.1073/pnas.79.10.3260.\n",
      "RX   PUBMED; 6808505.\n",
      "RA   Alexander A., Steinmetz M., Barritault D., Frangione B., Franklin E.C.,\n",
      "RA   Hood L., Buxbaum J.N.;\n",
      "RT   \"gamma Heavy chain disease in man: cDNA sequence supports partial gene\n",
      "RT   deletion model\";\n",
      "RL   Proc. Natl. Acad. Sci. U.S.A. 79(10):3260-3264(1982).\n",
      "XX\n",
      "DR   MD5; dbfb2a63ffcc88671722e91e641adcaa.\n",
      "DR   CABRI; LMBP 2079.\n",
      "DR   CABRI; LMBP 2146.\n",
      "DR   CABRI; LMBP 2147.\n",
      "DR   CABRI; LMBP 2151.\n",
      "DR   CABRI; LMBP 2192.\n",
      "DR   CABRI; LMBP 2193.\n",
      "DR   CABRI; LMBP 2194.\n",
      "DR   CABRI; LMBP 2211.\n",
      "DR   CABRI; LMBP 2316.\n",
      "DR   CABRI; LMBP 2586.\n",
      "DR   CABRI; LMBP 2587.\n",
      "DR   CABRI; LMBP 2589.\n",
      "DR   CABRI; LMBP 2590.\n",
      "DR   CABRI; LMBP 3306.\n",
      "DR   EuropePMC; PMC2739203; 19682364.\n",
      "DR   IMGT/LIGM; J00231.\n",
      "XX\n",
      "CC   The protein isolated from patient OMM is a gamma heavy chain\n",
      "CC   disease (HCD) protein. It has a large 5' internal deletion\n",
      "CC   consisting of most of the variable region and the entire ch1\n",
      "CC   domain. [1] suggests that the protein abnormality is from a partial\n",
      "CC   gene deletion rather than from defective splicing.\n",
      "XX\n",
      "FH   Key             Location/Qualifiers\n",
      "FH\n",
      "FT   source          1..1089\n",
      "FT                   /organism=\"Homo sapiens\"\n",
      "FT                   /map=\"14q32.33\"\n",
      "FT                   /mol_type=\"mRNA\"\n",
      "FT                   /db_xref=\"taxon:9606\"\n",
      "FT   mRNA            <1..1089\n",
      "FT                   /note=\"gamma3 mRNA\"\n",
      "FT   CDS             23..964\n",
      "FT                   /codon_start=1\n",
      "FT                   /gene=\"IGHG3\"\n",
      "FT                   /note=\"OMM protein (Ig gamma3) heavy chain\"\n",
      "FT                   /db_xref=\"GOA:P01860\"\n",
      "FT                   /db_xref=\"HGNC:HGNC:5527\"\n",
      "FT                   /db_xref=\"InterPro:IPR003006\"\n",
      "FT                   /db_xref=\"InterPro:IPR003597\"\n",
      "FT                   /db_xref=\"InterPro:IPR007110\"\n",
      "FT                   /db_xref=\"InterPro:IPR013783\"\n",
      "FT                   /db_xref=\"InterPro:IPR036179\"\n",
      "FT                   /db_xref=\"PDB:4WWI\"\n",
      "FT                   /db_xref=\"PDB:4ZNC\"\n",
      "FT                   /db_xref=\"PDB:5M3V\"\n",
      "FT                   /db_xref=\"PDB:5W38\"\n",
      "FT                   /db_xref=\"PDB:6D58\"\n",
      "FT                   /db_xref=\"PDB:6G1E\"\n",
      "FT                   /db_xref=\"UniProtKB/Swiss-Prot:P01860\"\n",
      "FT                   /protein_id=\"AAA52805.1\"\n",
      "FT                   /translation=\"MKXLWFFLLLVAAPRWVLSQVHLQESGPGLGKPPELKTPLGDTTH\n",
      "FT                   TCPRCPEPKSCDTPPPCPRCPEPKSCDTPPPCPRCPEPKSCDTPPPCPXCPAPELLGGP\n",
      "FT                   SVFLFPPKPKDTLMISRTPEVTCVVVDVSHEDPXVQFKWYVDGVEVHNAKTKLREEQYN\n",
      "FT                   STFRVVSVLTVLHQDWLNGKEYKCKVSNKALPAPIEKTISKAKGQPXXXXXXXXXXXXE\n",
      "FT                   EMTKNQVSLTCLVKGFYPSDIAVEWESNGQPENNYNTTPPMLDSDGSFFLYSKLTVDKS\n",
      "FT                   RWQQGNIFSCSVMHEALHNRYTQKSLSLSPGK\"\n",
      "FT   sig_peptide     26..79\n",
      "FT                   /gene=\"IGHG3\"\n",
      "FT                   /note=\"OMM protein signal peptide\"\n",
      "FT   mat_peptide     80..961\n",
      "FT                   /gene=\"IGHG3\"\n",
      "FT                   /note=\"OMM protein mature peptide\"\n",
      "XX\n",
      "SQ   Sequence 1089 BP; 240 A; 358 C; 271 G; 176 T; 44 other;\n",
      "     cctggacctc ctgtgcaaga acatgaaaca nctgtggttc ttccttctcc tggtggcagc        60\n",
      "     tcccagatgg gtcctgtccc aggtgcacct gcaggagtcg ggcccaggac tggggaagcc       120\n",
      "     tccagagctc aaaaccccac ttggtgacac aactcacaca tgcccacggt gcccagagcc       180\n",
      "     caaatcttgt gacacacctc ccccgtgccc acggtgccca gagcccaaat cttgtgacac       240\n",
      "     acctccccca tgcccacggt gcccagagcc caaatcttgt gacacacctc ccccgtgccc       300\n",
      "     nnngtgccca gcacctgaac tcttgggagg accgtcagtc ttcctcttcc ccccaaaacc       360\n",
      "     caaggatacc cttatgattt cccggacccc tgaggtcacg tgcgtggtgg tggacgtgag       420\n",
      "     ccacgaagac ccnnnngtcc agttcaagtg gtacgtggac ggcgtggagg tgcataatgc       480\n",
      "     caagacaaag ctgcgggagg agcagtacaa cagcacgttc cgtgtggtca gcgtcctcac       540\n",
      "     cgtcctgcac caggactggc tgaacggcaa ggagtacaag tgcaaggtct ccaacaaagc       600\n",
      "     cctcccagcc cccatcgaga aaaccatctc caaagccaaa ggacagcccn nnnnnnnnnn       660\n",
      "     nnnnnnnnnn nnnnnnnnnn nnnnngagga gatgaccaag aaccaagtca gcctgacctg       720\n",
      "     cctggtcaaa ggcttctacc ccagcgacat cgccgtggag tgggagagca atgggcagcc       780\n",
      "     ggagaacaac tacaacacca cgcctcccat gctggactcc gacggctcct tcttcctcta       840\n",
      "     cagcaagctc accgtggaca agagcaggtg gcagcagggg aacatcttct catgctccgt       900\n",
      "     gatgcatgag gctctgcaca accgctacac gcagaagagc ctctccctgt ctccgggtaa       960\n",
      "     atgagtgcca tggccggcaa gcccccgctc cccgggctct cggggtcgcg cgaggatgct      1020\n",
      "     tggcacgtac cccgtgtaca tacttcccag gcacccagca tggaaataaa gcacccagcg      1080\n",
      "     ctgccctgg                                                              1089\n",
      "//\n",
      "\n"
     ]
    }
   ],
   "source": [
    "import requests\n",
    "\n",
    "id_user = input(\"Introduce el identificador J00\")\n",
    "tipo = \"ena_sequence\"\n",
    "\n",
    "ebi_url = f'https://www.ebi.ac.uk/Tools/dbfetch/dbfetch?db={tipo}&id=J00{id_user}&style=raw'\n",
    "\n",
    "response = requests.get(ebi_url)\n",
    "\n",
    "# Inspect some attributes of the `requests` repository\n",
    "print(response.text)\n"
   ]
  },
  {
   "cell_type": "markdown",
   "metadata": {
    "id": "Mlof15Sn20CN"
   },
   "source": [
    "2. Modify the following program to show only the lines containing the organism and the molecule type for the sequence.\n"
   ]
  },
  {
   "cell_type": "code",
   "execution_count": 27,
   "metadata": {
    "id": "4QNomC5w24yx"
   },
   "outputs": [
    {
     "name": "stdout",
     "output_type": "stream",
     "text": [
      "KW   C-region; gamma heavy chain disease protein;\n",
      "KW   gamma3 heavy chain disease protein; heavy chain disease; hinge exon;\n",
      "KW   immunoglobulin gamma-chain; immunoglobulin heavy chain;\n",
      "KW   secreted immunoglobulin; V-region.\n",
      "OS   Homo sapiens (human)\n"
     ]
    }
   ],
   "source": [
    "import requests\n",
    "\n",
    "# Define the URL\n",
    "ebi_url = 'https://www.ebi.ac.uk/Tools/dbfetch/dbfetch?db=ena_sequence&id=J00231&style=raw'\n",
    "\n",
    "# Search Dbfetch tool\n",
    "response = requests.get(ebi_url)\n",
    "# Inspect some attributes of the `requests` repository\n",
    "\n",
    "for line in response.text.split(\"\\n\"):\n",
    "    #print(line)\n",
    "    if line.startswith(\"OS\"): #organismo\n",
    "        print(line)\n",
    "    if line.startswith(\"KW\"): #tipo de molécula\n",
    "        print(line)"
   ]
  },
  {
   "cell_type": "markdown",
   "metadata": {
    "id": "h58lRMNV-WDy"
   },
   "source": [
    "# 3. Passing parameters\n",
    "----"
   ]
  },
  {
   "cell_type": "markdown",
   "metadata": {
    "id": "OuX2yvp07_n0"
   },
   "source": [
    "3. One common way to customize a GET request is to pass values through query string parameters in the URL. To do this using *get()*, you pass data to params as a dictionary:"
   ]
  },
  {
   "cell_type": "code",
   "execution_count": 28,
   "metadata": {
    "id": "y-m4rrJ08GBQ"
   },
   "outputs": [
    {
     "name": "stdout",
     "output_type": "stream",
     "text": [
      "ID   J00231; SV 1; linear; mRNA; STD; HUM; 1089 BP.\n",
      "XX\n",
      "AC   J00231;\n",
      "XX\n",
      "DT   13-JUN-1985 (Rel. 06, Created)\n",
      "DT   17-APR-2005 (Rel. 83, Last updated, Version 9)\n",
      "XX\n",
      "DE   Human Ig gamma3 heavy chain disease OMM protein mRNA.\n",
      "XX\n",
      "KW   C-region; gamma heavy chain disease protein;\n",
      "KW   gamma3 heavy chain disease protein; heavy chain disease; hinge exon;\n",
      "KW   immunoglobulin gamma-chain; immunoglobulin heavy chain;\n",
      "KW   secreted immunoglobulin; V-region.\n",
      "XX\n",
      "OS   Homo sapiens (human)\n",
      "OC   Eukaryota; Metazoa; Chordata; Craniata; Vertebrata; Euteleostomi; Mammalia;\n",
      "OC   Eutheria; Euarchontoglires; Primates; Haplorrhini; Catarrhini; Hominidae;\n",
      "OC   Homo.\n",
      "XX\n",
      "RN   [1]\n",
      "RP   1-1089\n",
      "RX   DOI; 10.1073/pnas.79.10.3260.\n",
      "RX   PUBMED; 6808505.\n",
      "RA   Alexander A., Steinmetz M., Barritault D., Frangione B., Franklin E.C.,\n",
      "RA   Hood L., Buxbaum J.N.;\n",
      "RT   \"gamma Heavy chain disease in man: cDNA sequence supports partial gene\n",
      "RT   deletion model\";\n",
      "RL   Proc. Natl. Acad. Sci. U.S.A. 79(10):3260-3264(1982).\n",
      "XX\n",
      "DR   MD5; dbfb2a63ffcc88671722e91e641adcaa.\n",
      "DR   CABRI; LMBP 2079.\n",
      "DR   CABRI; LMBP 2146.\n",
      "DR   CABRI; LMBP 2147.\n",
      "DR   CABRI; LMBP 2151.\n",
      "DR   CABRI; LMBP 2192.\n",
      "DR   CABRI; LMBP 2193.\n",
      "DR   CABRI; LMBP 2194.\n",
      "DR   CABRI; LMBP 2211.\n",
      "DR   CABRI; LMBP 2316.\n",
      "DR   CABRI; LMBP 2586.\n",
      "DR   CABRI; LMBP 2587.\n",
      "DR   CABRI; LMBP 2589.\n",
      "DR   CABRI; LMBP 2590.\n",
      "DR   CABRI; LMBP 3306.\n",
      "DR   EuropePMC; PMC2739203; 19682364.\n",
      "DR   IMGT/LIGM; J00231.\n",
      "XX\n",
      "CC   The protein isolated from patient OMM is a gamma heavy chain\n",
      "CC   disease (HCD) protein. It has a large 5' internal deletion\n",
      "CC   consisting of most of the variable region and the entire ch1\n",
      "CC   domain. [1] suggests that the protein abnormality is from a partial\n",
      "CC   gene deletion rather than from defective splicing.\n",
      "XX\n",
      "FH   Key             Location/Qualifiers\n",
      "FH\n",
      "FT   source          1..1089\n",
      "FT                   /organism=\"Homo sapiens\"\n",
      "FT                   /map=\"14q32.33\"\n",
      "FT                   /mol_type=\"mRNA\"\n",
      "FT                   /db_xref=\"taxon:9606\"\n",
      "FT   mRNA            <1..1089\n",
      "FT                   /note=\"gamma3 mRNA\"\n",
      "FT   CDS             23..964\n",
      "FT                   /codon_start=1\n",
      "FT                   /gene=\"IGHG3\"\n",
      "FT                   /note=\"OMM protein (Ig gamma3) heavy chain\"\n",
      "FT                   /db_xref=\"GOA:P01860\"\n",
      "FT                   /db_xref=\"HGNC:HGNC:5527\"\n",
      "FT                   /db_xref=\"InterPro:IPR003006\"\n",
      "FT                   /db_xref=\"InterPro:IPR003597\"\n",
      "FT                   /db_xref=\"InterPro:IPR007110\"\n",
      "FT                   /db_xref=\"InterPro:IPR013783\"\n",
      "FT                   /db_xref=\"InterPro:IPR036179\"\n",
      "FT                   /db_xref=\"PDB:4WWI\"\n",
      "FT                   /db_xref=\"PDB:4ZNC\"\n",
      "FT                   /db_xref=\"PDB:5M3V\"\n",
      "FT                   /db_xref=\"PDB:5W38\"\n",
      "FT                   /db_xref=\"PDB:6D58\"\n",
      "FT                   /db_xref=\"PDB:6G1E\"\n",
      "FT                   /db_xref=\"UniProtKB/Swiss-Prot:P01860\"\n",
      "FT                   /protein_id=\"AAA52805.1\"\n",
      "FT                   /translation=\"MKXLWFFLLLVAAPRWVLSQVHLQESGPGLGKPPELKTPLGDTTH\n",
      "FT                   TCPRCPEPKSCDTPPPCPRCPEPKSCDTPPPCPRCPEPKSCDTPPPCPXCPAPELLGGP\n",
      "FT                   SVFLFPPKPKDTLMISRTPEVTCVVVDVSHEDPXVQFKWYVDGVEVHNAKTKLREEQYN\n",
      "FT                   STFRVVSVLTVLHQDWLNGKEYKCKVSNKALPAPIEKTISKAKGQPXXXXXXXXXXXXE\n",
      "FT                   EMTKNQVSLTCLVKGFYPSDIAVEWESNGQPENNYNTTPPMLDSDGSFFLYSKLTVDKS\n",
      "FT                   RWQQGNIFSCSVMHEALHNRYTQKSLSLSPGK\"\n",
      "FT   sig_peptide     26..79\n",
      "FT                   /gene=\"IGHG3\"\n",
      "FT                   /note=\"OMM protein signal peptide\"\n",
      "FT   mat_peptide     80..961\n",
      "FT                   /gene=\"IGHG3\"\n",
      "FT                   /note=\"OMM protein mature peptide\"\n",
      "XX\n",
      "SQ   Sequence 1089 BP; 240 A; 358 C; 271 G; 176 T; 44 other;\n",
      "     cctggacctc ctgtgcaaga acatgaaaca nctgtggttc ttccttctcc tggtggcagc        60\n",
      "     tcccagatgg gtcctgtccc aggtgcacct gcaggagtcg ggcccaggac tggggaagcc       120\n",
      "     tccagagctc aaaaccccac ttggtgacac aactcacaca tgcccacggt gcccagagcc       180\n",
      "     caaatcttgt gacacacctc ccccgtgccc acggtgccca gagcccaaat cttgtgacac       240\n",
      "     acctccccca tgcccacggt gcccagagcc caaatcttgt gacacacctc ccccgtgccc       300\n",
      "     nnngtgccca gcacctgaac tcttgggagg accgtcagtc ttcctcttcc ccccaaaacc       360\n",
      "     caaggatacc cttatgattt cccggacccc tgaggtcacg tgcgtggtgg tggacgtgag       420\n",
      "     ccacgaagac ccnnnngtcc agttcaagtg gtacgtggac ggcgtggagg tgcataatgc       480\n",
      "     caagacaaag ctgcgggagg agcagtacaa cagcacgttc cgtgtggtca gcgtcctcac       540\n",
      "     cgtcctgcac caggactggc tgaacggcaa ggagtacaag tgcaaggtct ccaacaaagc       600\n",
      "     cctcccagcc cccatcgaga aaaccatctc caaagccaaa ggacagcccn nnnnnnnnnn       660\n",
      "     nnnnnnnnnn nnnnnnnnnn nnnnngagga gatgaccaag aaccaagtca gcctgacctg       720\n",
      "     cctggtcaaa ggcttctacc ccagcgacat cgccgtggag tgggagagca atgggcagcc       780\n",
      "     ggagaacaac tacaacacca cgcctcccat gctggactcc gacggctcct tcttcctcta       840\n",
      "     cagcaagctc accgtggaca agagcaggtg gcagcagggg aacatcttct catgctccgt       900\n",
      "     gatgcatgag gctctgcaca accgctacac gcagaagagc ctctccctgt ctccgggtaa       960\n",
      "     atgagtgcca tggccggcaa gcccccgctc cccgggctct cggggtcgcg cgaggatgct      1020\n",
      "     tggcacgtac cccgtgtaca tacttcccag gcacccagca tggaaataaa gcacccagcg      1080\n",
      "     ctgccctgg                                                              1089\n",
      "//\n",
      "\n"
     ]
    }
   ],
   "source": [
    "import requests\n",
    "\n",
    "# Define the URL\n",
    "ebi_url = 'https://www.ebi.ac.uk/Tools/dbfetch/dbfetch'\n",
    "\n",
    "# Search Dbfetch tool\n",
    "response = requests.get(ebi_url,\n",
    "    params={'db': 'ena_sequence', 'id':'J00231' , 'style':'raw'}\n",
    ")\n",
    "\n",
    "# Inspect some attributes of the `requests` repository\n",
    "print(response.text)"
   ]
  },
  {
   "cell_type": "markdown",
   "metadata": {
    "id": "EOGJHyzn8mm2"
   },
   "source": [
    "4. Rewrite both programs 1. and 2. to use the params parameter in *get()* function. First, copy the resulting code 1 and 2 in the following cells (don't modify the originals)"
   ]
  },
  {
   "cell_type": "code",
   "execution_count": 30,
   "metadata": {
    "collapsed": true
   },
   "outputs": [
    {
     "name": "stdout",
     "output_type": "stream",
     "text": [
      "Introduce el identificador: J00231\n",
      "ID   J00231; SV 1; linear; mRNA; STD; HUM; 1089 BP.\n",
      "XX\n",
      "AC   J00231;\n",
      "XX\n",
      "DT   13-JUN-1985 (Rel. 06, Created)\n",
      "DT   17-APR-2005 (Rel. 83, Last updated, Version 9)\n",
      "XX\n",
      "DE   Human Ig gamma3 heavy chain disease OMM protein mRNA.\n",
      "XX\n",
      "KW   C-region; gamma heavy chain disease protein;\n",
      "KW   gamma3 heavy chain disease protein; heavy chain disease; hinge exon;\n",
      "KW   immunoglobulin gamma-chain; immunoglobulin heavy chain;\n",
      "KW   secreted immunoglobulin; V-region.\n",
      "XX\n",
      "OS   Homo sapiens (human)\n",
      "OC   Eukaryota; Metazoa; Chordata; Craniata; Vertebrata; Euteleostomi; Mammalia;\n",
      "OC   Eutheria; Euarchontoglires; Primates; Haplorrhini; Catarrhini; Hominidae;\n",
      "OC   Homo.\n",
      "XX\n",
      "RN   [1]\n",
      "RP   1-1089\n",
      "RX   DOI; 10.1073/pnas.79.10.3260.\n",
      "RX   PUBMED; 6808505.\n",
      "RA   Alexander A., Steinmetz M., Barritault D., Frangione B., Franklin E.C.,\n",
      "RA   Hood L., Buxbaum J.N.;\n",
      "RT   \"gamma Heavy chain disease in man: cDNA sequence supports partial gene\n",
      "RT   deletion model\";\n",
      "RL   Proc. Natl. Acad. Sci. U.S.A. 79(10):3260-3264(1982).\n",
      "XX\n",
      "DR   MD5; dbfb2a63ffcc88671722e91e641adcaa.\n",
      "DR   CABRI; LMBP 2079.\n",
      "DR   CABRI; LMBP 2146.\n",
      "DR   CABRI; LMBP 2147.\n",
      "DR   CABRI; LMBP 2151.\n",
      "DR   CABRI; LMBP 2192.\n",
      "DR   CABRI; LMBP 2193.\n",
      "DR   CABRI; LMBP 2194.\n",
      "DR   CABRI; LMBP 2211.\n",
      "DR   CABRI; LMBP 2316.\n",
      "DR   CABRI; LMBP 2586.\n",
      "DR   CABRI; LMBP 2587.\n",
      "DR   CABRI; LMBP 2589.\n",
      "DR   CABRI; LMBP 2590.\n",
      "DR   CABRI; LMBP 3306.\n",
      "DR   EuropePMC; PMC2739203; 19682364.\n",
      "DR   IMGT/LIGM; J00231.\n",
      "XX\n",
      "CC   The protein isolated from patient OMM is a gamma heavy chain\n",
      "CC   disease (HCD) protein. It has a large 5' internal deletion\n",
      "CC   consisting of most of the variable region and the entire ch1\n",
      "CC   domain. [1] suggests that the protein abnormality is from a partial\n",
      "CC   gene deletion rather than from defective splicing.\n",
      "XX\n",
      "FH   Key             Location/Qualifiers\n",
      "FH\n",
      "FT   source          1..1089\n",
      "FT                   /organism=\"Homo sapiens\"\n",
      "FT                   /map=\"14q32.33\"\n",
      "FT                   /mol_type=\"mRNA\"\n",
      "FT                   /db_xref=\"taxon:9606\"\n",
      "FT   mRNA            <1..1089\n",
      "FT                   /note=\"gamma3 mRNA\"\n",
      "FT   CDS             23..964\n",
      "FT                   /codon_start=1\n",
      "FT                   /gene=\"IGHG3\"\n",
      "FT                   /note=\"OMM protein (Ig gamma3) heavy chain\"\n",
      "FT                   /db_xref=\"GOA:P01860\"\n",
      "FT                   /db_xref=\"HGNC:HGNC:5527\"\n",
      "FT                   /db_xref=\"InterPro:IPR003006\"\n",
      "FT                   /db_xref=\"InterPro:IPR003597\"\n",
      "FT                   /db_xref=\"InterPro:IPR007110\"\n",
      "FT                   /db_xref=\"InterPro:IPR013783\"\n",
      "FT                   /db_xref=\"InterPro:IPR036179\"\n",
      "FT                   /db_xref=\"PDB:4WWI\"\n",
      "FT                   /db_xref=\"PDB:4ZNC\"\n",
      "FT                   /db_xref=\"PDB:5M3V\"\n",
      "FT                   /db_xref=\"PDB:5W38\"\n",
      "FT                   /db_xref=\"PDB:6D58\"\n",
      "FT                   /db_xref=\"PDB:6G1E\"\n",
      "FT                   /db_xref=\"UniProtKB/Swiss-Prot:P01860\"\n",
      "FT                   /protein_id=\"AAA52805.1\"\n",
      "FT                   /translation=\"MKXLWFFLLLVAAPRWVLSQVHLQESGPGLGKPPELKTPLGDTTH\n",
      "FT                   TCPRCPEPKSCDTPPPCPRCPEPKSCDTPPPCPRCPEPKSCDTPPPCPXCPAPELLGGP\n",
      "FT                   SVFLFPPKPKDTLMISRTPEVTCVVVDVSHEDPXVQFKWYVDGVEVHNAKTKLREEQYN\n",
      "FT                   STFRVVSVLTVLHQDWLNGKEYKCKVSNKALPAPIEKTISKAKGQPXXXXXXXXXXXXE\n",
      "FT                   EMTKNQVSLTCLVKGFYPSDIAVEWESNGQPENNYNTTPPMLDSDGSFFLYSKLTVDKS\n",
      "FT                   RWQQGNIFSCSVMHEALHNRYTQKSLSLSPGK\"\n",
      "FT   sig_peptide     26..79\n",
      "FT                   /gene=\"IGHG3\"\n",
      "FT                   /note=\"OMM protein signal peptide\"\n",
      "FT   mat_peptide     80..961\n",
      "FT                   /gene=\"IGHG3\"\n",
      "FT                   /note=\"OMM protein mature peptide\"\n",
      "XX\n",
      "SQ   Sequence 1089 BP; 240 A; 358 C; 271 G; 176 T; 44 other;\n",
      "     cctggacctc ctgtgcaaga acatgaaaca nctgtggttc ttccttctcc tggtggcagc        60\n",
      "     tcccagatgg gtcctgtccc aggtgcacct gcaggagtcg ggcccaggac tggggaagcc       120\n",
      "     tccagagctc aaaaccccac ttggtgacac aactcacaca tgcccacggt gcccagagcc       180\n",
      "     caaatcttgt gacacacctc ccccgtgccc acggtgccca gagcccaaat cttgtgacac       240\n",
      "     acctccccca tgcccacggt gcccagagcc caaatcttgt gacacacctc ccccgtgccc       300\n",
      "     nnngtgccca gcacctgaac tcttgggagg accgtcagtc ttcctcttcc ccccaaaacc       360\n",
      "     caaggatacc cttatgattt cccggacccc tgaggtcacg tgcgtggtgg tggacgtgag       420\n",
      "     ccacgaagac ccnnnngtcc agttcaagtg gtacgtggac ggcgtggagg tgcataatgc       480\n",
      "     caagacaaag ctgcgggagg agcagtacaa cagcacgttc cgtgtggtca gcgtcctcac       540\n",
      "     cgtcctgcac caggactggc tgaacggcaa ggagtacaag tgcaaggtct ccaacaaagc       600\n",
      "     cctcccagcc cccatcgaga aaaccatctc caaagccaaa ggacagcccn nnnnnnnnnn       660\n",
      "     nnnnnnnnnn nnnnnnnnnn nnnnngagga gatgaccaag aaccaagtca gcctgacctg       720\n",
      "     cctggtcaaa ggcttctacc ccagcgacat cgccgtggag tgggagagca atgggcagcc       780\n",
      "     ggagaacaac tacaacacca cgcctcccat gctggactcc gacggctcct tcttcctcta       840\n",
      "     cagcaagctc accgtggaca agagcaggtg gcagcagggg aacatcttct catgctccgt       900\n",
      "     gatgcatgag gctctgcaca accgctacac gcagaagagc ctctccctgt ctccgggtaa       960\n",
      "     atgagtgcca tggccggcaa gcccccgctc cccgggctct cggggtcgcg cgaggatgct      1020\n",
      "     tggcacgtac cccgtgtaca tacttcccag gcacccagca tggaaataaa gcacccagcg      1080\n",
      "     ctgccctgg                                                              1089\n",
      "//\n",
      "\n"
     ]
    }
   ],
   "source": [
    "#New exercise 1\n",
    "import requests\n",
    "\n",
    "id_user = input(\"Introduce el identificador: \")\n",
    "tipo = \"ena_sequence\"\n",
    "\n",
    "ebi_url = f'https://www.ebi.ac.uk/Tools/dbfetch/dbfetch?'\n",
    "\n",
    "response = requests.get(ebi_url, params={'db': tipo, 'id':id_user , 'style':'raw'})\n",
    "\n",
    "# Inspect some attributes of the `requests` repository\n",
    "print(response.text)\n"
   ]
  },
  {
   "cell_type": "code",
   "execution_count": 31,
   "metadata": {},
   "outputs": [
    {
     "name": "stdout",
     "output_type": "stream",
     "text": [
      "Introduce el identificador: J00231\n",
      "KW   C-region; gamma heavy chain disease protein;\n",
      "KW   gamma3 heavy chain disease protein; heavy chain disease; hinge exon;\n",
      "KW   immunoglobulin gamma-chain; immunoglobulin heavy chain;\n",
      "KW   secreted immunoglobulin; V-region.\n",
      "OS   Homo sapiens (human)\n"
     ]
    }
   ],
   "source": [
    "#New exercise 2\n",
    "import requests\n",
    "\n",
    "id_user = input(\"Introduce el identificador: \")\n",
    "tipo = \"ena_sequence\"\n",
    "\n",
    "# Define the URL\n",
    "ebi_url = f'https://www.ebi.ac.uk/Tools/dbfetch/dbfetch?'\n",
    "\n",
    "response = requests.get(ebi_url, params={'db': tipo, 'id':id_user , 'style':'raw'})\n",
    "\n",
    "for line in response.text.split(\"\\n\"):\n",
    "    #print(line)\n",
    "    if line.startswith(\"OS\"): #organismo\n",
    "        print(line)\n",
    "    if line.startswith(\"KW\"): #tipo de molécula\n",
    "        print(line)"
   ]
  },
  {
   "cell_type": "markdown",
   "metadata": {
    "id": "BrJyJ8GtAR0Q"
   },
   "source": [
    "5. Complete the following program to retrieve different sequences. Read each ID from 'prot_codes.txt' (one per line)."
   ]
  },
  {
   "cell_type": "code",
   "execution_count": null,
   "metadata": {
    "id": "HLxyN3InAT1m"
   },
   "outputs": [],
   "source": [
    "import requests\n",
    "\n",
    "# Define the URL\n",
    "urlbase = \"https://www.ebi.ac.uk/Tools/dbfetch/dbfetch\"\n",
    "\n",
    "# Set parameters\n",
    "params = {'db':'uniprotkb','id':'S4TR86','format':'fasta','style':'raw'}\n",
    "\n",
    "# Make the request!\n",
    "print(requests.get(urlbase, params=params).text)"
   ]
  },
  {
   "cell_type": "markdown",
   "metadata": {
    "id": "OGfqGT5ZCEDf"
   },
   "source": [
    "# Solutions (do NOT open!. Yet)"
   ]
  },
  {
   "cell_type": "markdown",
   "metadata": {
    "id": "A04p-zmVBF9Z"
   },
   "source": [
    "**Exercise 1**. Get the ID from the user\n",
    "\n",
    "It can be done with f-strings (only for Python3), or old-school %-formatting. More info: https://realpython.com/python-f-strings/"
   ]
  },
  {
   "cell_type": "code",
   "execution_count": null,
   "metadata": {
    "id": "2YS6Z4Z-BIVb"
   },
   "outputs": [],
   "source": [
    "import requests\n",
    "\n",
    "# J00231\n",
    "id = input(\"Type the desired ID, please: \")\n",
    "\n",
    "# Define the URL\n",
    "# Only for Python 3\n",
    "ebi_url = f'https://www.ebi.ac.uk/Tools/dbfetch/dbfetch?db=ena_sequence&id={id}&style=raw'\n",
    "# Valid in Python 2.x\n",
    "ebi_url = 'https://www.ebi.ac.uk/Tools/dbfetch/dbfetch?db=ena_sequence&id={}&style=raw'.format(id)\n",
    "\n",
    "# Search Dbfetch tool\n",
    "response = requests.get(ebi_url)\n",
    "\n",
    "# Inspect some attributes of the `requests` repository\n",
    "print(response.text)"
   ]
  },
  {
   "cell_type": "markdown",
   "metadata": {
    "id": "0SB7swvaBtGE"
   },
   "source": [
    "**Exercise 2**. Filter output"
   ]
  },
  {
   "cell_type": "code",
   "execution_count": null,
   "metadata": {
    "id": "spqgjzQ_B0MA"
   },
   "outputs": [],
   "source": [
    "# 2. Modify the following program to show only the lines containing the organism and the molecule type for the sequence\n",
    "\n",
    "import requests\n",
    "\n",
    "# Define the URL\n",
    "ebi_url = 'https://www.ebi.ac.uk/Tools/dbfetch/dbfetch?db=ena_sequence&id=J00231&style=raw'\n",
    "\n",
    "# Search Dbfetch tool\n",
    "response = requests.get(ebi_url).text\n",
    "\n",
    "splited_response = response.split('\\n')\n",
    "\n",
    "# Method 1: line-by-line\n",
    "for line in splited_response:\n",
    "    if 'organism' in line or 'mol_type' in line:\n",
    "        print(line)\n",
    "\n",
    "# Method 2: list comprehension\n",
    "filtered_response = [ line for line in splited_response if ('organism' in line or 'mol_type' in line)]\n",
    "print(filtered_response)"
   ]
  },
  {
   "cell_type": "markdown",
   "metadata": {
    "id": "_gbMm9bBCOuV"
   },
   "source": [
    "**Exercise 5**. Making multiple requests"
   ]
  },
  {
   "cell_type": "code",
   "execution_count": null,
   "metadata": {
    "id": "bhhfEw8xAvSM"
   },
   "outputs": [],
   "source": [
    "import requests\n",
    "\n",
    "params = {'db':'uniprotkb','id':'S4TR86','format':'fasta','style':'raw'}\n",
    "urlbase = \"https://www.ebi.ac.uk/Tools/dbfetch/dbfetch\"\n",
    "\n",
    "# Retrieve many\n",
    "with open('prot_codes.txt') as f:\n",
    "    for line in f:\n",
    "        params['id'] = line.strip()\n",
    "        print(requests.get(urlbase,params=params).text)"
   ]
  }
 ],
 "metadata": {
  "colab": {
   "collapsed_sections": [
    "nxipPZYCtCNj",
    "WeTVsElz-KMr"
   ],
   "provenance": [],
   "toc_visible": true
  },
  "kernelspec": {
   "display_name": "Python 3 (ipykernel)",
   "language": "python",
   "name": "python3"
  },
  "language_info": {
   "codemirror_mode": {
    "name": "ipython",
    "version": 3
   },
   "file_extension": ".py",
   "mimetype": "text/x-python",
   "name": "python",
   "nbconvert_exporter": "python",
   "pygments_lexer": "ipython3",
   "version": "3.10.9"
  }
 },
 "nbformat": 4,
 "nbformat_minor": 1
}
